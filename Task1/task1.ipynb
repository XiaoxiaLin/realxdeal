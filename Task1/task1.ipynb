{
 "cells": [
  {
   "cell_type": "markdown",
   "metadata": {},
   "source": [
    "# Task 1. Databases\n",
    "\n",
    "Included in the assignment you will find a csv file (`./artifacts/postings_february.csv.zip`)\n",
    "containing basic information on real estates postings ingested daily over a month. Load the\n",
    "data in a database you find appropriate. How complete is the data? Do you see any issue?\n",
    "\n",
    "We are interested in the following:\n",
    "\n",
    "- average price per square meter per category\n",
    "- number of postings online, per category\n",
    "- number of postings created over the first and last day\n",
    "- relative difference on postings created daily; do you see any pattern?\n",
    "- a query reporting when an alert system monitoring the postings created daily should have fired\n",
    "\n",
    "Make sure to provide in the results all the artifacts you generate and a readme on how to\n",
    "run, for us to be able to reproduce in the most automated way."
   ]
  },
  {
   "cell_type": "code",
   "execution_count": 1,
   "metadata": {},
   "outputs": [],
   "source": [
    "# imports\n",
    "\n",
    "import pandas as pd\n",
    "import numpy as np\n",
    "import datetime\n",
    "import os\n",
    "\n",
    "import seaborn as sns\n",
    "import matplotlib.pyplot as plt"
   ]
  },
  {
   "cell_type": "markdown",
   "metadata": {},
   "source": [
    "# Exploratory Data Analysis"
   ]
  },
  {
   "cell_type": "code",
   "execution_count": 2,
   "metadata": {},
   "outputs": [
    {
     "name": "stdout",
     "output_type": "stream",
     "text": [
      "Dockerfile   \u001b[34mdata\u001b[m\u001b[m/        \u001b[34msql-scripts\u001b[m\u001b[m/ task1.html   task1.ipynb\n"
     ]
    }
   ],
   "source": [
    "ls"
   ]
  },
  {
   "cell_type": "markdown",
   "metadata": {},
   "source": [
    "### 1. Read file"
   ]
  },
  {
   "cell_type": "code",
   "execution_count": 3,
   "metadata": {},
   "outputs": [
    {
     "name": "stdout",
     "output_type": "stream",
     "text": [
      "(143027, 11)\n"
     ]
    },
    {
     "data": {
      "text/html": [
       "<div>\n",
       "<style scoped>\n",
       "    .dataframe tbody tr th:only-of-type {\n",
       "        vertical-align: middle;\n",
       "    }\n",
       "\n",
       "    .dataframe tbody tr th {\n",
       "        vertical-align: top;\n",
       "    }\n",
       "\n",
       "    .dataframe thead th {\n",
       "        text-align: right;\n",
       "    }\n",
       "</style>\n",
       "<table border=\"1\" class=\"dataframe\">\n",
       "  <thead>\n",
       "    <tr style=\"text-align: right;\">\n",
       "      <th></th>\n",
       "      <th>uuid</th>\n",
       "      <th>category</th>\n",
       "      <th>zip_code</th>\n",
       "      <th>price</th>\n",
       "      <th>area</th>\n",
       "      <th>created_at</th>\n",
       "      <th>status</th>\n",
       "      <th>created_date</th>\n",
       "      <th>created_time</th>\n",
       "      <th>created_hour</th>\n",
       "      <th>created_weekday</th>\n",
       "    </tr>\n",
       "  </thead>\n",
       "  <tbody>\n",
       "    <tr>\n",
       "      <th>0</th>\n",
       "      <td>9c5d5ccc-6822-48bd-9590-6ca7695fb009</td>\n",
       "      <td>office</td>\n",
       "      <td>NaN</td>\n",
       "      <td>NaN</td>\n",
       "      <td>NaN</td>\n",
       "      <td>2021-02-27 17:47:31</td>\n",
       "      <td>REMOVED</td>\n",
       "      <td>2021-02-27</td>\n",
       "      <td>17:47:31</td>\n",
       "      <td>17</td>\n",
       "      <td>Saturday</td>\n",
       "    </tr>\n",
       "    <tr>\n",
       "      <th>1</th>\n",
       "      <td>498f4f33-f596-4499-8fc7-a3e2bb02e129</td>\n",
       "      <td>office</td>\n",
       "      <td>NaN</td>\n",
       "      <td>NaN</td>\n",
       "      <td>NaN</td>\n",
       "      <td>2021-02-27 17:47:31</td>\n",
       "      <td>REMOVED</td>\n",
       "      <td>2021-02-27</td>\n",
       "      <td>17:47:31</td>\n",
       "      <td>17</td>\n",
       "      <td>Saturday</td>\n",
       "    </tr>\n",
       "    <tr>\n",
       "      <th>2</th>\n",
       "      <td>57554554-639d-41e6-b83d-6f51ea053051</td>\n",
       "      <td>office</td>\n",
       "      <td>NaN</td>\n",
       "      <td>NaN</td>\n",
       "      <td>NaN</td>\n",
       "      <td>2021-02-27 17:47:32</td>\n",
       "      <td>REMOVED</td>\n",
       "      <td>2021-02-27</td>\n",
       "      <td>17:47:32</td>\n",
       "      <td>17</td>\n",
       "      <td>Saturday</td>\n",
       "    </tr>\n",
       "    <tr>\n",
       "      <th>3</th>\n",
       "      <td>0f6d8033-f252-475c-8ba8-846ccc68d2e3</td>\n",
       "      <td>house</td>\n",
       "      <td>35796</td>\n",
       "      <td>125000.0</td>\n",
       "      <td>80.0</td>\n",
       "      <td>2021-02-12 17:08:51</td>\n",
       "      <td>REMOVED</td>\n",
       "      <td>2021-02-12</td>\n",
       "      <td>17:08:51</td>\n",
       "      <td>17</td>\n",
       "      <td>Friday</td>\n",
       "    </tr>\n",
       "    <tr>\n",
       "      <th>4</th>\n",
       "      <td>c1caea71-02d4-470d-b382-92108560f454</td>\n",
       "      <td>office</td>\n",
       "      <td>NaN</td>\n",
       "      <td>NaN</td>\n",
       "      <td>NaN</td>\n",
       "      <td>2021-02-23 17:30:33</td>\n",
       "      <td>REMOVED</td>\n",
       "      <td>2021-02-23</td>\n",
       "      <td>17:30:33</td>\n",
       "      <td>17</td>\n",
       "      <td>Tuesday</td>\n",
       "    </tr>\n",
       "  </tbody>\n",
       "</table>\n",
       "</div>"
      ],
      "text/plain": [
       "                                   uuid category zip_code     price  area  \\\n",
       "0  9c5d5ccc-6822-48bd-9590-6ca7695fb009   office      NaN       NaN   NaN   \n",
       "1  498f4f33-f596-4499-8fc7-a3e2bb02e129   office      NaN       NaN   NaN   \n",
       "2  57554554-639d-41e6-b83d-6f51ea053051   office      NaN       NaN   NaN   \n",
       "3  0f6d8033-f252-475c-8ba8-846ccc68d2e3    house    35796  125000.0  80.0   \n",
       "4  c1caea71-02d4-470d-b382-92108560f454   office      NaN       NaN   NaN   \n",
       "\n",
       "           created_at   status created_date created_time  created_hour  \\\n",
       "0 2021-02-27 17:47:31  REMOVED   2021-02-27     17:47:31            17   \n",
       "1 2021-02-27 17:47:31  REMOVED   2021-02-27     17:47:31            17   \n",
       "2 2021-02-27 17:47:32  REMOVED   2021-02-27     17:47:32            17   \n",
       "3 2021-02-12 17:08:51  REMOVED   2021-02-12     17:08:51            17   \n",
       "4 2021-02-23 17:30:33  REMOVED   2021-02-23     17:30:33            17   \n",
       "\n",
       "  created_weekday  \n",
       "0        Saturday  \n",
       "1        Saturday  \n",
       "2        Saturday  \n",
       "3          Friday  \n",
       "4         Tuesday  "
      ]
     },
     "execution_count": 3,
     "metadata": {},
     "output_type": "execute_result"
    }
   ],
   "source": [
    "df = pd.read_csv(r\"data/postings_february.csv\", parse_dates=[\"created_at\"])\n",
    "\n",
    "# created new columns from created_at for further analysis\n",
    "df[\"created_date\"] = df[\"created_at\"].dt.date\n",
    "df[\"created_time\"] = df[\"created_at\"].dt.time\n",
    "df[\"created_hour\"] = df[\"created_at\"].dt.hour\n",
    "df[\"created_weekday\"] = df[\"created_at\"].apply(lambda x: x.strftime('%A'))\n",
    "\n",
    "print(df.shape)\n",
    "\n",
    "df.head()\n",
    "#df.tail()"
   ]
  },
  {
   "cell_type": "markdown",
   "metadata": {},
   "source": [
    "### 2. Basic Analysis\n",
    "\n",
    "From the first few rows, we can already see there are some missing values on the columns \"zip_code\", \"price\" and \"area\".  Let's check it for all the columns and let's also check the datatype, how many unique values in each column, potencial outliers, etc."
   ]
  },
  {
   "cell_type": "code",
   "execution_count": 4,
   "metadata": {},
   "outputs": [
    {
     "data": {
      "text/plain": [
       "uuid                   0\n",
       "category               0\n",
       "zip_code            8992\n",
       "price              95581\n",
       "area               13556\n",
       "created_at             0\n",
       "status                 0\n",
       "created_date           0\n",
       "created_time           0\n",
       "created_hour           0\n",
       "created_weekday        0\n",
       "dtype: int64"
      ]
     },
     "execution_count": 4,
     "metadata": {},
     "output_type": "execute_result"
    }
   ],
   "source": [
    "df.isna().sum()"
   ]
  },
  {
   "cell_type": "code",
   "execution_count": 5,
   "metadata": {},
   "outputs": [
    {
     "data": {
      "text/plain": [
       "uuid                       object\n",
       "category                   object\n",
       "zip_code                   object\n",
       "price                     float64\n",
       "area                      float64\n",
       "created_at         datetime64[ns]\n",
       "status                     object\n",
       "created_date               object\n",
       "created_time               object\n",
       "created_hour                int64\n",
       "created_weekday            object\n",
       "dtype: object"
      ]
     },
     "execution_count": 5,
     "metadata": {},
     "output_type": "execute_result"
    }
   ],
   "source": [
    "df.dtypes"
   ]
  },
  {
   "cell_type": "code",
   "execution_count": 6,
   "metadata": {},
   "outputs": [
    {
     "data": {
      "text/plain": [
       "uuid               143027\n",
       "category                6\n",
       "zip_code             6938\n",
       "price                6429\n",
       "area                13665\n",
       "created_at          70022\n",
       "status                  3\n",
       "created_date           28\n",
       "created_time        13225\n",
       "created_hour            6\n",
       "created_weekday         7\n",
       "dtype: int64"
      ]
     },
     "execution_count": 6,
     "metadata": {},
     "output_type": "execute_result"
    }
   ],
   "source": [
    "df.nunique()"
   ]
  },
  {
   "cell_type": "code",
   "execution_count": 7,
   "metadata": {},
   "outputs": [
    {
     "data": {
      "text/html": [
       "<div>\n",
       "<style scoped>\n",
       "    .dataframe tbody tr th:only-of-type {\n",
       "        vertical-align: middle;\n",
       "    }\n",
       "\n",
       "    .dataframe tbody tr th {\n",
       "        vertical-align: top;\n",
       "    }\n",
       "\n",
       "    .dataframe thead th {\n",
       "        text-align: right;\n",
       "    }\n",
       "</style>\n",
       "<table border=\"1\" class=\"dataframe\">\n",
       "  <thead>\n",
       "    <tr style=\"text-align: right;\">\n",
       "      <th></th>\n",
       "      <th>price</th>\n",
       "      <th>area</th>\n",
       "      <th>created_hour</th>\n",
       "    </tr>\n",
       "  </thead>\n",
       "  <tbody>\n",
       "    <tr>\n",
       "      <th>count</th>\n",
       "      <td>4.744600e+04</td>\n",
       "      <td>129471.000000</td>\n",
       "      <td>143027.000000</td>\n",
       "    </tr>\n",
       "    <tr>\n",
       "      <th>mean</th>\n",
       "      <td>4.199551e+05</td>\n",
       "      <td>378.467347</td>\n",
       "      <td>17.689101</td>\n",
       "    </tr>\n",
       "    <tr>\n",
       "      <th>std</th>\n",
       "      <td>1.737207e+06</td>\n",
       "      <td>3218.948533</td>\n",
       "      <td>0.933066</td>\n",
       "    </tr>\n",
       "    <tr>\n",
       "      <th>min</th>\n",
       "      <td>2.999000e+02</td>\n",
       "      <td>1.000000</td>\n",
       "      <td>17.000000</td>\n",
       "    </tr>\n",
       "    <tr>\n",
       "      <th>25%</th>\n",
       "      <td>1.650000e+05</td>\n",
       "      <td>56.100000</td>\n",
       "      <td>17.000000</td>\n",
       "    </tr>\n",
       "    <tr>\n",
       "      <th>50%</th>\n",
       "      <td>3.020000e+05</td>\n",
       "      <td>80.930000</td>\n",
       "      <td>17.000000</td>\n",
       "    </tr>\n",
       "    <tr>\n",
       "      <th>75%</th>\n",
       "      <td>4.900000e+05</td>\n",
       "      <td>140.000000</td>\n",
       "      <td>18.000000</td>\n",
       "    </tr>\n",
       "    <tr>\n",
       "      <th>max</th>\n",
       "      <td>3.600000e+08</td>\n",
       "      <td>647210.000000</td>\n",
       "      <td>22.000000</td>\n",
       "    </tr>\n",
       "  </tbody>\n",
       "</table>\n",
       "</div>"
      ],
      "text/plain": [
       "              price           area   created_hour\n",
       "count  4.744600e+04  129471.000000  143027.000000\n",
       "mean   4.199551e+05     378.467347      17.689101\n",
       "std    1.737207e+06    3218.948533       0.933066\n",
       "min    2.999000e+02       1.000000      17.000000\n",
       "25%    1.650000e+05      56.100000      17.000000\n",
       "50%    3.020000e+05      80.930000      17.000000\n",
       "75%    4.900000e+05     140.000000      18.000000\n",
       "max    3.600000e+08  647210.000000      22.000000"
      ]
     },
     "execution_count": 7,
     "metadata": {},
     "output_type": "execute_result"
    }
   ],
   "source": [
    "# not all the price has corresponding area\n",
    "\n",
    "df.describe()"
   ]
  },
  {
   "cell_type": "code",
   "execution_count": 8,
   "metadata": {},
   "outputs": [
    {
     "name": "stdout",
     "output_type": "stream",
     "text": [
      "Fisrt posting 2021-02-01 17:02:57\n",
      "Last posting 2021-02-28 19:13:27\n"
     ]
    }
   ],
   "source": [
    "print(\"Fisrt posting\", df[\"created_at\"].min())\n",
    "print(\"Last posting\", df[\"created_at\"].max())\n",
    "\n",
    "# check that the uuid indeed is unique\n",
    "assert df.uuid.nunique() == df.uuid.count()"
   ]
  },
  {
   "cell_type": "code",
   "execution_count": 9,
   "metadata": {},
   "outputs": [
    {
     "name": "stdout",
     "output_type": "stream",
     "text": [
      "Unique category values: ['office' 'house' 'apartment' 'retail' 'temporary_living' 'industrial']\n",
      "Unique status values  : ['REMOVED' 'ONLINE' 'PENDING']\n"
     ]
    }
   ],
   "source": [
    "print(\"Unique category values:\", df.category.unique())\n",
    "print(\"Unique status values  :\", df.status.unique())"
   ]
  },
  {
   "cell_type": "markdown",
   "metadata": {},
   "source": [
    "#### Observations\n",
    "\n",
    "1. Indeed the data contains postings from Feb 2021, and uuid is unique. \n",
    "2. There are missing values in 3 columns columns \"zip_code\", \"price\" and \"area\".\n",
    "3. There are 6 different categories (['office' 'house' 'apartment' 'retail' 'temporary_living' 'industrial']), 3 different status(['REMOVED' 'ONLINE' 'PENDING']), 28 created_date (Feb 2021 has 28 days)\n",
    "4. Data ingestion hour (created_hour) is between 17:00h and 23:00h. \n",
    "5. From the describe table, both price and area seems to have outliers. The max value is way bigger than the 75% percentile. \n"
   ]
  },
  {
   "cell_type": "markdown",
   "metadata": {},
   "source": [
    "### 3. More in-depth analysis\n",
    "\n",
    "Now we have a basis understanding of the data, let's check it more in depth. \n",
    "\n",
    "### 3.1 univariate analysis"
   ]
  },
  {
   "cell_type": "code",
   "execution_count": 10,
   "metadata": {},
   "outputs": [],
   "source": [
    "def univariate_analysis(df, col, sort_by_posting=True):\n",
    "    \"\"\"\n",
    "    giving the datafram and the column name, return value counts of the columns and its percentage\n",
    "    sort_by_posting by default is True, change to false if you don't want the dataframe to be sorted by number of postings\n",
    "    \n",
    "    \"\"\"\n",
    "    total_postings = df.uuid.count()\n",
    "    df_grouped = df.groupby(col).agg({\"uuid\": \"count\"}).reset_index()\n",
    "    \n",
    "    df_grouped.rename(columns = {'uuid': 'postings'}, inplace = True)\n",
    "    df_grouped.sort_values('postings', ascending=False, inplace=sort_by_posting)\n",
    "    \n",
    "    df_grouped[\"%_posting\"] = round(df_grouped.postings/total_postings * 100, 4)\n",
    "    return df_grouped"
   ]
  },
  {
   "cell_type": "markdown",
   "metadata": {},
   "source": [
    "#### 3.1.1 Status\n",
    "\n",
    "There are more \"REMOVED\" posts (75%) than \"ONLINE\" posts (25%), only 6 postings are \"PENDING\".\n",
    "<font color='red'>Is it normal to have more \"REMOVED\" than \"ONLINE\"? What cause posting to be \"PENDING\"?  </font>"
   ]
  },
  {
   "cell_type": "code",
   "execution_count": 11,
   "metadata": {},
   "outputs": [
    {
     "data": {
      "text/html": [
       "<div>\n",
       "<style scoped>\n",
       "    .dataframe tbody tr th:only-of-type {\n",
       "        vertical-align: middle;\n",
       "    }\n",
       "\n",
       "    .dataframe tbody tr th {\n",
       "        vertical-align: top;\n",
       "    }\n",
       "\n",
       "    .dataframe thead th {\n",
       "        text-align: right;\n",
       "    }\n",
       "</style>\n",
       "<table border=\"1\" class=\"dataframe\">\n",
       "  <thead>\n",
       "    <tr style=\"text-align: right;\">\n",
       "      <th></th>\n",
       "      <th>status</th>\n",
       "      <th>postings</th>\n",
       "      <th>%_posting</th>\n",
       "    </tr>\n",
       "  </thead>\n",
       "  <tbody>\n",
       "    <tr>\n",
       "      <th>2</th>\n",
       "      <td>REMOVED</td>\n",
       "      <td>107035</td>\n",
       "      <td>74.8355</td>\n",
       "    </tr>\n",
       "    <tr>\n",
       "      <th>0</th>\n",
       "      <td>ONLINE</td>\n",
       "      <td>35986</td>\n",
       "      <td>25.1603</td>\n",
       "    </tr>\n",
       "    <tr>\n",
       "      <th>1</th>\n",
       "      <td>PENDING</td>\n",
       "      <td>6</td>\n",
       "      <td>0.0042</td>\n",
       "    </tr>\n",
       "  </tbody>\n",
       "</table>\n",
       "</div>"
      ],
      "text/plain": [
       "    status  postings  %_posting\n",
       "2  REMOVED    107035    74.8355\n",
       "0   ONLINE     35986    25.1603\n",
       "1  PENDING         6     0.0042"
      ]
     },
     "execution_count": 11,
     "metadata": {},
     "output_type": "execute_result"
    }
   ],
   "source": [
    "univariate_analysis(df, \"status\")"
   ]
  },
  {
   "cell_type": "code",
   "execution_count": 12,
   "metadata": {},
   "outputs": [
    {
     "data": {
      "text/html": [
       "<div>\n",
       "<style scoped>\n",
       "    .dataframe tbody tr th:only-of-type {\n",
       "        vertical-align: middle;\n",
       "    }\n",
       "\n",
       "    .dataframe tbody tr th {\n",
       "        vertical-align: top;\n",
       "    }\n",
       "\n",
       "    .dataframe thead th {\n",
       "        text-align: right;\n",
       "    }\n",
       "</style>\n",
       "<table border=\"1\" class=\"dataframe\">\n",
       "  <thead>\n",
       "    <tr style=\"text-align: right;\">\n",
       "      <th></th>\n",
       "      <th>uuid</th>\n",
       "      <th>category</th>\n",
       "      <th>zip_code</th>\n",
       "      <th>price</th>\n",
       "      <th>area</th>\n",
       "      <th>created_at</th>\n",
       "      <th>status</th>\n",
       "      <th>created_date</th>\n",
       "      <th>created_time</th>\n",
       "      <th>created_hour</th>\n",
       "      <th>created_weekday</th>\n",
       "    </tr>\n",
       "  </thead>\n",
       "  <tbody>\n",
       "    <tr>\n",
       "      <th>54180</th>\n",
       "      <td>39760fda-947f-4d97-8638-3b574389ded5</td>\n",
       "      <td>house</td>\n",
       "      <td>NaN</td>\n",
       "      <td>NaN</td>\n",
       "      <td>NaN</td>\n",
       "      <td>2021-02-25 19:15:35</td>\n",
       "      <td>PENDING</td>\n",
       "      <td>2021-02-25</td>\n",
       "      <td>19:15:35</td>\n",
       "      <td>19</td>\n",
       "      <td>Thursday</td>\n",
       "    </tr>\n",
       "    <tr>\n",
       "      <th>58254</th>\n",
       "      <td>3dbb2de6-07d7-4506-a073-68e7a56464e0</td>\n",
       "      <td>house</td>\n",
       "      <td>NaN</td>\n",
       "      <td>NaN</td>\n",
       "      <td>NaN</td>\n",
       "      <td>2021-02-22 18:02:46</td>\n",
       "      <td>PENDING</td>\n",
       "      <td>2021-02-22</td>\n",
       "      <td>18:02:46</td>\n",
       "      <td>18</td>\n",
       "      <td>Monday</td>\n",
       "    </tr>\n",
       "    <tr>\n",
       "      <th>63454</th>\n",
       "      <td>2d965bac-1df0-4d2a-8753-322a4643294f</td>\n",
       "      <td>apartment</td>\n",
       "      <td>NaN</td>\n",
       "      <td>NaN</td>\n",
       "      <td>NaN</td>\n",
       "      <td>2021-02-22 18:30:14</td>\n",
       "      <td>PENDING</td>\n",
       "      <td>2021-02-22</td>\n",
       "      <td>18:30:14</td>\n",
       "      <td>18</td>\n",
       "      <td>Monday</td>\n",
       "    </tr>\n",
       "    <tr>\n",
       "      <th>75308</th>\n",
       "      <td>aaa8da4e-a6f1-4ffa-8fa2-085464c6c24e</td>\n",
       "      <td>house</td>\n",
       "      <td>NaN</td>\n",
       "      <td>NaN</td>\n",
       "      <td>NaN</td>\n",
       "      <td>2021-02-25 20:02:37</td>\n",
       "      <td>PENDING</td>\n",
       "      <td>2021-02-25</td>\n",
       "      <td>20:02:37</td>\n",
       "      <td>20</td>\n",
       "      <td>Thursday</td>\n",
       "    </tr>\n",
       "    <tr>\n",
       "      <th>87949</th>\n",
       "      <td>5c245dd9-e88f-42d9-a939-32d8448f0e27</td>\n",
       "      <td>apartment</td>\n",
       "      <td>NaN</td>\n",
       "      <td>NaN</td>\n",
       "      <td>NaN</td>\n",
       "      <td>2021-02-04 17:13:12</td>\n",
       "      <td>PENDING</td>\n",
       "      <td>2021-02-04</td>\n",
       "      <td>17:13:12</td>\n",
       "      <td>17</td>\n",
       "      <td>Thursday</td>\n",
       "    </tr>\n",
       "    <tr>\n",
       "      <th>106800</th>\n",
       "      <td>94658277-5cd8-4ba1-8b05-7e5b80b10af3</td>\n",
       "      <td>apartment</td>\n",
       "      <td>NaN</td>\n",
       "      <td>NaN</td>\n",
       "      <td>NaN</td>\n",
       "      <td>2021-02-28 17:22:13</td>\n",
       "      <td>PENDING</td>\n",
       "      <td>2021-02-28</td>\n",
       "      <td>17:22:13</td>\n",
       "      <td>17</td>\n",
       "      <td>Sunday</td>\n",
       "    </tr>\n",
       "  </tbody>\n",
       "</table>\n",
       "</div>"
      ],
      "text/plain": [
       "                                        uuid   category zip_code  price  area  \\\n",
       "54180   39760fda-947f-4d97-8638-3b574389ded5      house      NaN    NaN   NaN   \n",
       "58254   3dbb2de6-07d7-4506-a073-68e7a56464e0      house      NaN    NaN   NaN   \n",
       "63454   2d965bac-1df0-4d2a-8753-322a4643294f  apartment      NaN    NaN   NaN   \n",
       "75308   aaa8da4e-a6f1-4ffa-8fa2-085464c6c24e      house      NaN    NaN   NaN   \n",
       "87949   5c245dd9-e88f-42d9-a939-32d8448f0e27  apartment      NaN    NaN   NaN   \n",
       "106800  94658277-5cd8-4ba1-8b05-7e5b80b10af3  apartment      NaN    NaN   NaN   \n",
       "\n",
       "                created_at   status created_date created_time  created_hour  \\\n",
       "54180  2021-02-25 19:15:35  PENDING   2021-02-25     19:15:35            19   \n",
       "58254  2021-02-22 18:02:46  PENDING   2021-02-22     18:02:46            18   \n",
       "63454  2021-02-22 18:30:14  PENDING   2021-02-22     18:30:14            18   \n",
       "75308  2021-02-25 20:02:37  PENDING   2021-02-25     20:02:37            20   \n",
       "87949  2021-02-04 17:13:12  PENDING   2021-02-04     17:13:12            17   \n",
       "106800 2021-02-28 17:22:13  PENDING   2021-02-28     17:22:13            17   \n",
       "\n",
       "       created_weekday  \n",
       "54180         Thursday  \n",
       "58254           Monday  \n",
       "63454           Monday  \n",
       "75308         Thursday  \n",
       "87949         Thursday  \n",
       "106800          Sunday  "
      ]
     },
     "execution_count": 12,
     "metadata": {},
     "output_type": "execute_result"
    }
   ],
   "source": [
    "# Let's check the 6 pending ones. \n",
    "\n",
    "df[df.status==\"PENDING\"]"
   ]
  },
  {
   "cell_type": "markdown",
   "metadata": {},
   "source": [
    "#### 3.1.2 category\n",
    "\n",
    "Most of the posts are in the \"apratment\" and \"house\" categories"
   ]
  },
  {
   "cell_type": "code",
   "execution_count": 13,
   "metadata": {},
   "outputs": [
    {
     "data": {
      "text/html": [
       "<div>\n",
       "<style scoped>\n",
       "    .dataframe tbody tr th:only-of-type {\n",
       "        vertical-align: middle;\n",
       "    }\n",
       "\n",
       "    .dataframe tbody tr th {\n",
       "        vertical-align: top;\n",
       "    }\n",
       "\n",
       "    .dataframe thead th {\n",
       "        text-align: right;\n",
       "    }\n",
       "</style>\n",
       "<table border=\"1\" class=\"dataframe\">\n",
       "  <thead>\n",
       "    <tr style=\"text-align: right;\">\n",
       "      <th></th>\n",
       "      <th>category</th>\n",
       "      <th>postings</th>\n",
       "      <th>%_posting</th>\n",
       "    </tr>\n",
       "  </thead>\n",
       "  <tbody>\n",
       "    <tr>\n",
       "      <th>0</th>\n",
       "      <td>apartment</td>\n",
       "      <td>79830</td>\n",
       "      <td>55.8146</td>\n",
       "    </tr>\n",
       "    <tr>\n",
       "      <th>1</th>\n",
       "      <td>house</td>\n",
       "      <td>28422</td>\n",
       "      <td>19.8718</td>\n",
       "    </tr>\n",
       "    <tr>\n",
       "      <th>3</th>\n",
       "      <td>office</td>\n",
       "      <td>15279</td>\n",
       "      <td>10.6826</td>\n",
       "    </tr>\n",
       "    <tr>\n",
       "      <th>5</th>\n",
       "      <td>temporary_living</td>\n",
       "      <td>12209</td>\n",
       "      <td>8.5362</td>\n",
       "    </tr>\n",
       "    <tr>\n",
       "      <th>2</th>\n",
       "      <td>industrial</td>\n",
       "      <td>5288</td>\n",
       "      <td>3.6972</td>\n",
       "    </tr>\n",
       "    <tr>\n",
       "      <th>4</th>\n",
       "      <td>retail</td>\n",
       "      <td>1999</td>\n",
       "      <td>1.3976</td>\n",
       "    </tr>\n",
       "  </tbody>\n",
       "</table>\n",
       "</div>"
      ],
      "text/plain": [
       "           category  postings  %_posting\n",
       "0         apartment     79830    55.8146\n",
       "1             house     28422    19.8718\n",
       "3            office     15279    10.6826\n",
       "5  temporary_living     12209     8.5362\n",
       "2        industrial      5288     3.6972\n",
       "4            retail      1999     1.3976"
      ]
     },
     "execution_count": 13,
     "metadata": {},
     "output_type": "execute_result"
    }
   ],
   "source": [
    "univariate_analysis(df, \"category\")"
   ]
  },
  {
   "cell_type": "markdown",
   "metadata": {},
   "source": [
    "#### 3.1.3 zip_code\n",
    "\n",
    "Top 5:\n",
    "- 60329 Frankfurt\n",
    "- 20457 Hamburg\n",
    "- 20095 Hamburg\n",
    "- 22761 Hamburg\n",
    "- 17034 Neubrandenburg\n",
    "\n",
    "Ideas, but out of the scope of this task: \n",
    "\n",
    "Next nice thing to do would be find the coordinates of the zip_codes and plot a heatmap to see the distrubution of zip_code, and see it by status, by category,etc. We could have a heatmap of avg price per square meter and have more visual way to see which zip_code (neighborhood) is more expensive."
   ]
  },
  {
   "cell_type": "code",
   "execution_count": 14,
   "metadata": {},
   "outputs": [
    {
     "data": {
      "text/html": [
       "<div>\n",
       "<style scoped>\n",
       "    .dataframe tbody tr th:only-of-type {\n",
       "        vertical-align: middle;\n",
       "    }\n",
       "\n",
       "    .dataframe tbody tr th {\n",
       "        vertical-align: top;\n",
       "    }\n",
       "\n",
       "    .dataframe thead th {\n",
       "        text-align: right;\n",
       "    }\n",
       "</style>\n",
       "<table border=\"1\" class=\"dataframe\">\n",
       "  <thead>\n",
       "    <tr style=\"text-align: right;\">\n",
       "      <th></th>\n",
       "      <th>zip_code</th>\n",
       "      <th>postings</th>\n",
       "      <th>%_posting</th>\n",
       "    </tr>\n",
       "  </thead>\n",
       "  <tbody>\n",
       "    <tr>\n",
       "      <th>3754</th>\n",
       "      <td>60329</td>\n",
       "      <td>700</td>\n",
       "      <td>0.4894</td>\n",
       "    </tr>\n",
       "    <tr>\n",
       "      <th>1105</th>\n",
       "      <td>20457</td>\n",
       "      <td>672</td>\n",
       "      <td>0.4698</td>\n",
       "    </tr>\n",
       "    <tr>\n",
       "      <th>1087</th>\n",
       "      <td>20095</td>\n",
       "      <td>505</td>\n",
       "      <td>0.3531</td>\n",
       "    </tr>\n",
       "    <tr>\n",
       "      <th>1280</th>\n",
       "      <td>22761</td>\n",
       "      <td>457</td>\n",
       "      <td>0.3195</td>\n",
       "    </tr>\n",
       "    <tr>\n",
       "      <th>920</th>\n",
       "      <td>17034</td>\n",
       "      <td>373</td>\n",
       "      <td>0.2608</td>\n",
       "    </tr>\n",
       "  </tbody>\n",
       "</table>\n",
       "</div>"
      ],
      "text/plain": [
       "     zip_code  postings  %_posting\n",
       "3754    60329       700     0.4894\n",
       "1105    20457       672     0.4698\n",
       "1087    20095       505     0.3531\n",
       "1280    22761       457     0.3195\n",
       "920     17034       373     0.2608"
      ]
     },
     "execution_count": 14,
     "metadata": {},
     "output_type": "execute_result"
    }
   ],
   "source": [
    "univariate_analysis(df, \"zip_code\")[:5]"
   ]
  },
  {
   "cell_type": "markdown",
   "metadata": {},
   "source": [
    "#### 3.1.4 created_date, created_hour, created_weekday\n",
    "\n",
    "<font color='red'>There are only 22 postings on  2021-02-20. Did something go wrong that day?</font> "
   ]
  },
  {
   "cell_type": "code",
   "execution_count": 15,
   "metadata": {},
   "outputs": [
    {
     "data": {
      "text/html": [
       "<div>\n",
       "<style scoped>\n",
       "    .dataframe tbody tr th:only-of-type {\n",
       "        vertical-align: middle;\n",
       "    }\n",
       "\n",
       "    .dataframe tbody tr th {\n",
       "        vertical-align: top;\n",
       "    }\n",
       "\n",
       "    .dataframe thead th {\n",
       "        text-align: right;\n",
       "    }\n",
       "</style>\n",
       "<table border=\"1\" class=\"dataframe\">\n",
       "  <thead>\n",
       "    <tr style=\"text-align: right;\">\n",
       "      <th></th>\n",
       "      <th>created_date</th>\n",
       "      <th>postings</th>\n",
       "      <th>%_posting</th>\n",
       "    </tr>\n",
       "  </thead>\n",
       "  <tbody>\n",
       "    <tr>\n",
       "      <th>24</th>\n",
       "      <td>2021-02-25</td>\n",
       "      <td>10990</td>\n",
       "      <td>7.6839</td>\n",
       "    </tr>\n",
       "    <tr>\n",
       "      <th>4</th>\n",
       "      <td>2021-02-05</td>\n",
       "      <td>9090</td>\n",
       "      <td>6.3554</td>\n",
       "    </tr>\n",
       "    <tr>\n",
       "      <th>15</th>\n",
       "      <td>2021-02-16</td>\n",
       "      <td>7790</td>\n",
       "      <td>5.4465</td>\n",
       "    </tr>\n",
       "    <tr>\n",
       "      <th>18</th>\n",
       "      <td>2021-02-19</td>\n",
       "      <td>7665</td>\n",
       "      <td>5.3591</td>\n",
       "    </tr>\n",
       "    <tr>\n",
       "      <th>25</th>\n",
       "      <td>2021-02-26</td>\n",
       "      <td>7399</td>\n",
       "      <td>5.1731</td>\n",
       "    </tr>\n",
       "    <tr>\n",
       "      <th>11</th>\n",
       "      <td>2021-02-12</td>\n",
       "      <td>7334</td>\n",
       "      <td>5.1277</td>\n",
       "    </tr>\n",
       "    <tr>\n",
       "      <th>22</th>\n",
       "      <td>2021-02-23</td>\n",
       "      <td>7274</td>\n",
       "      <td>5.0858</td>\n",
       "    </tr>\n",
       "    <tr>\n",
       "      <th>1</th>\n",
       "      <td>2021-02-02</td>\n",
       "      <td>7130</td>\n",
       "      <td>4.9851</td>\n",
       "    </tr>\n",
       "    <tr>\n",
       "      <th>8</th>\n",
       "      <td>2021-02-09</td>\n",
       "      <td>6979</td>\n",
       "      <td>4.8795</td>\n",
       "    </tr>\n",
       "    <tr>\n",
       "      <th>3</th>\n",
       "      <td>2021-02-04</td>\n",
       "      <td>5869</td>\n",
       "      <td>4.1034</td>\n",
       "    </tr>\n",
       "    <tr>\n",
       "      <th>2</th>\n",
       "      <td>2021-02-03</td>\n",
       "      <td>5569</td>\n",
       "      <td>3.8937</td>\n",
       "    </tr>\n",
       "    <tr>\n",
       "      <th>17</th>\n",
       "      <td>2021-02-18</td>\n",
       "      <td>5366</td>\n",
       "      <td>3.7517</td>\n",
       "    </tr>\n",
       "    <tr>\n",
       "      <th>14</th>\n",
       "      <td>2021-02-15</td>\n",
       "      <td>5288</td>\n",
       "      <td>3.6972</td>\n",
       "    </tr>\n",
       "    <tr>\n",
       "      <th>10</th>\n",
       "      <td>2021-02-11</td>\n",
       "      <td>5248</td>\n",
       "      <td>3.6692</td>\n",
       "    </tr>\n",
       "    <tr>\n",
       "      <th>9</th>\n",
       "      <td>2021-02-10</td>\n",
       "      <td>5185</td>\n",
       "      <td>3.6252</td>\n",
       "    </tr>\n",
       "    <tr>\n",
       "      <th>16</th>\n",
       "      <td>2021-02-17</td>\n",
       "      <td>4993</td>\n",
       "      <td>3.4909</td>\n",
       "    </tr>\n",
       "    <tr>\n",
       "      <th>0</th>\n",
       "      <td>2021-02-01</td>\n",
       "      <td>4967</td>\n",
       "      <td>3.4728</td>\n",
       "    </tr>\n",
       "    <tr>\n",
       "      <th>7</th>\n",
       "      <td>2021-02-08</td>\n",
       "      <td>4438</td>\n",
       "      <td>3.1029</td>\n",
       "    </tr>\n",
       "    <tr>\n",
       "      <th>20</th>\n",
       "      <td>2021-02-21</td>\n",
       "      <td>4348</td>\n",
       "      <td>3.0400</td>\n",
       "    </tr>\n",
       "    <tr>\n",
       "      <th>21</th>\n",
       "      <td>2021-02-22</td>\n",
       "      <td>4263</td>\n",
       "      <td>2.9806</td>\n",
       "    </tr>\n",
       "    <tr>\n",
       "      <th>5</th>\n",
       "      <td>2021-02-06</td>\n",
       "      <td>3052</td>\n",
       "      <td>2.1339</td>\n",
       "    </tr>\n",
       "    <tr>\n",
       "      <th>26</th>\n",
       "      <td>2021-02-27</td>\n",
       "      <td>2715</td>\n",
       "      <td>1.8982</td>\n",
       "    </tr>\n",
       "    <tr>\n",
       "      <th>12</th>\n",
       "      <td>2021-02-13</td>\n",
       "      <td>2616</td>\n",
       "      <td>1.8290</td>\n",
       "    </tr>\n",
       "    <tr>\n",
       "      <th>27</th>\n",
       "      <td>2021-02-28</td>\n",
       "      <td>2136</td>\n",
       "      <td>1.4934</td>\n",
       "    </tr>\n",
       "    <tr>\n",
       "      <th>6</th>\n",
       "      <td>2021-02-07</td>\n",
       "      <td>2119</td>\n",
       "      <td>1.4815</td>\n",
       "    </tr>\n",
       "    <tr>\n",
       "      <th>13</th>\n",
       "      <td>2021-02-14</td>\n",
       "      <td>2005</td>\n",
       "      <td>1.4018</td>\n",
       "    </tr>\n",
       "    <tr>\n",
       "      <th>23</th>\n",
       "      <td>2021-02-24</td>\n",
       "      <td>1177</td>\n",
       "      <td>0.8229</td>\n",
       "    </tr>\n",
       "    <tr>\n",
       "      <th>19</th>\n",
       "      <td>2021-02-20</td>\n",
       "      <td>22</td>\n",
       "      <td>0.0154</td>\n",
       "    </tr>\n",
       "  </tbody>\n",
       "</table>\n",
       "</div>"
      ],
      "text/plain": [
       "   created_date  postings  %_posting\n",
       "24   2021-02-25     10990     7.6839\n",
       "4    2021-02-05      9090     6.3554\n",
       "15   2021-02-16      7790     5.4465\n",
       "18   2021-02-19      7665     5.3591\n",
       "25   2021-02-26      7399     5.1731\n",
       "11   2021-02-12      7334     5.1277\n",
       "22   2021-02-23      7274     5.0858\n",
       "1    2021-02-02      7130     4.9851\n",
       "8    2021-02-09      6979     4.8795\n",
       "3    2021-02-04      5869     4.1034\n",
       "2    2021-02-03      5569     3.8937\n",
       "17   2021-02-18      5366     3.7517\n",
       "14   2021-02-15      5288     3.6972\n",
       "10   2021-02-11      5248     3.6692\n",
       "9    2021-02-10      5185     3.6252\n",
       "16   2021-02-17      4993     3.4909\n",
       "0    2021-02-01      4967     3.4728\n",
       "7    2021-02-08      4438     3.1029\n",
       "20   2021-02-21      4348     3.0400\n",
       "21   2021-02-22      4263     2.9806\n",
       "5    2021-02-06      3052     2.1339\n",
       "26   2021-02-27      2715     1.8982\n",
       "12   2021-02-13      2616     1.8290\n",
       "27   2021-02-28      2136     1.4934\n",
       "6    2021-02-07      2119     1.4815\n",
       "13   2021-02-14      2005     1.4018\n",
       "23   2021-02-24      1177     0.8229\n",
       "19   2021-02-20        22     0.0154"
      ]
     },
     "execution_count": 15,
     "metadata": {},
     "output_type": "execute_result"
    }
   ],
   "source": [
    "df_created_date = univariate_analysis(df, \"created_date\")\n",
    "df_created_date"
   ]
  },
  {
   "cell_type": "code",
   "execution_count": 16,
   "metadata": {},
   "outputs": [],
   "source": [
    "# uncomment to see the 22 postings from 2020-02-20.\n",
    "# df[df[\"created_at\"].dt.day == 20]"
   ]
  },
  {
   "cell_type": "code",
   "execution_count": 17,
   "metadata": {},
   "outputs": [
    {
     "data": {
      "text/plain": [
       "<seaborn.axisgrid.FacetGrid at 0x121edec10>"
      ]
     },
     "execution_count": 17,
     "metadata": {},
     "output_type": "execute_result"
    },
    {
     "data": {
      "text/plain": [
       "<Figure size 720x360 with 0 Axes>"
      ]
     },
     "metadata": {},
     "output_type": "display_data"
    },
    {
     "data": {
      "image/png": "[encoded data removed]",
      "text/plain": [
       "<Figure size 900x360 with 1 Axes>"
      ]
     },
     "metadata": {
      "needs_background": "light"
     },
     "output_type": "display_data"
    }
   ],
   "source": [
    "plt.figure(figsize=(10,5))\n",
    "g = sns.catplot(x=\"created_date\", \n",
    "                y=\"postings\", \n",
    "                kind=\"bar\", \n",
    "                data=univariate_analysis(df, \"created_date\", sort_by_posting=False), \n",
    "                aspect=2.5)\n",
    "g.set_xticklabels(rotation=30, ha=\"right\")"
   ]
  },
  {
   "cell_type": "markdown",
   "metadata": {},
   "source": [
    "There are less volumns during the weekend. Friday seems to have most volumn (22%) following closely by Tuesday and Thrusday."
   ]
  },
  {
   "cell_type": "code",
   "execution_count": 18,
   "metadata": {},
   "outputs": [
    {
     "data": {
      "text/html": [
       "<div>\n",
       "<style scoped>\n",
       "    .dataframe tbody tr th:only-of-type {\n",
       "        vertical-align: middle;\n",
       "    }\n",
       "\n",
       "    .dataframe tbody tr th {\n",
       "        vertical-align: top;\n",
       "    }\n",
       "\n",
       "    .dataframe thead th {\n",
       "        text-align: right;\n",
       "    }\n",
       "</style>\n",
       "<table border=\"1\" class=\"dataframe\">\n",
       "  <thead>\n",
       "    <tr style=\"text-align: right;\">\n",
       "      <th></th>\n",
       "      <th>created_weekday</th>\n",
       "      <th>postings</th>\n",
       "      <th>%_posting</th>\n",
       "    </tr>\n",
       "  </thead>\n",
       "  <tbody>\n",
       "    <tr>\n",
       "      <th>0</th>\n",
       "      <td>Friday</td>\n",
       "      <td>31488</td>\n",
       "      <td>22.0154</td>\n",
       "    </tr>\n",
       "    <tr>\n",
       "      <th>5</th>\n",
       "      <td>Tuesday</td>\n",
       "      <td>29173</td>\n",
       "      <td>20.3968</td>\n",
       "    </tr>\n",
       "    <tr>\n",
       "      <th>4</th>\n",
       "      <td>Thursday</td>\n",
       "      <td>27473</td>\n",
       "      <td>19.2083</td>\n",
       "    </tr>\n",
       "    <tr>\n",
       "      <th>1</th>\n",
       "      <td>Monday</td>\n",
       "      <td>18956</td>\n",
       "      <td>13.2534</td>\n",
       "    </tr>\n",
       "    <tr>\n",
       "      <th>6</th>\n",
       "      <td>Wednesday</td>\n",
       "      <td>16924</td>\n",
       "      <td>11.8327</td>\n",
       "    </tr>\n",
       "    <tr>\n",
       "      <th>3</th>\n",
       "      <td>Sunday</td>\n",
       "      <td>10608</td>\n",
       "      <td>7.4168</td>\n",
       "    </tr>\n",
       "    <tr>\n",
       "      <th>2</th>\n",
       "      <td>Saturday</td>\n",
       "      <td>8405</td>\n",
       "      <td>5.8765</td>\n",
       "    </tr>\n",
       "  </tbody>\n",
       "</table>\n",
       "</div>"
      ],
      "text/plain": [
       "  created_weekday  postings  %_posting\n",
       "0          Friday     31488    22.0154\n",
       "5         Tuesday     29173    20.3968\n",
       "4        Thursday     27473    19.2083\n",
       "1          Monday     18956    13.2534\n",
       "6       Wednesday     16924    11.8327\n",
       "3          Sunday     10608     7.4168\n",
       "2        Saturday      8405     5.8765"
      ]
     },
     "execution_count": 18,
     "metadata": {},
     "output_type": "execute_result"
    }
   ],
   "source": [
    "univariate_analysis(df, \"created_weekday\")"
   ]
  },
  {
   "cell_type": "markdown",
   "metadata": {},
   "source": [
    "From the time, we can see that the data ingestion started at 17:00h and finish before 23:00h. Half of the data is ingested during the first hour."
   ]
  },
  {
   "cell_type": "code",
   "execution_count": 19,
   "metadata": {},
   "outputs": [
    {
     "name": "stdout",
     "output_type": "stream",
     "text": [
      "Ealiest posting time 17:02:38\n",
      "Lastest posting time 22:56:40\n"
     ]
    },
    {
     "data": {
      "text/html": [
       "<div>\n",
       "<style scoped>\n",
       "    .dataframe tbody tr th:only-of-type {\n",
       "        vertical-align: middle;\n",
       "    }\n",
       "\n",
       "    .dataframe tbody tr th {\n",
       "        vertical-align: top;\n",
       "    }\n",
       "\n",
       "    .dataframe thead th {\n",
       "        text-align: right;\n",
       "    }\n",
       "</style>\n",
       "<table border=\"1\" class=\"dataframe\">\n",
       "  <thead>\n",
       "    <tr style=\"text-align: right;\">\n",
       "      <th></th>\n",
       "      <th>created_hour</th>\n",
       "      <th>postings</th>\n",
       "      <th>%_posting</th>\n",
       "    </tr>\n",
       "  </thead>\n",
       "  <tbody>\n",
       "    <tr>\n",
       "      <th>0</th>\n",
       "      <td>17</td>\n",
       "      <td>72356</td>\n",
       "      <td>50.5890</td>\n",
       "    </tr>\n",
       "    <tr>\n",
       "      <th>1</th>\n",
       "      <td>18</td>\n",
       "      <td>55430</td>\n",
       "      <td>38.7549</td>\n",
       "    </tr>\n",
       "    <tr>\n",
       "      <th>2</th>\n",
       "      <td>19</td>\n",
       "      <td>7546</td>\n",
       "      <td>5.2759</td>\n",
       "    </tr>\n",
       "    <tr>\n",
       "      <th>3</th>\n",
       "      <td>20</td>\n",
       "      <td>4191</td>\n",
       "      <td>2.9302</td>\n",
       "    </tr>\n",
       "    <tr>\n",
       "      <th>4</th>\n",
       "      <td>21</td>\n",
       "      <td>2055</td>\n",
       "      <td>1.4368</td>\n",
       "    </tr>\n",
       "    <tr>\n",
       "      <th>5</th>\n",
       "      <td>22</td>\n",
       "      <td>1449</td>\n",
       "      <td>1.0131</td>\n",
       "    </tr>\n",
       "  </tbody>\n",
       "</table>\n",
       "</div>"
      ],
      "text/plain": [
       "   created_hour  postings  %_posting\n",
       "0            17     72356    50.5890\n",
       "1            18     55430    38.7549\n",
       "2            19      7546     5.2759\n",
       "3            20      4191     2.9302\n",
       "4            21      2055     1.4368\n",
       "5            22      1449     1.0131"
      ]
     },
     "execution_count": 19,
     "metadata": {},
     "output_type": "execute_result"
    }
   ],
   "source": [
    "print(\"Ealiest posting time\", df[\"created_time\"].min())\n",
    "print(\"Lastest posting time\", df[\"created_time\"].max())\n",
    "\n",
    "univariate_analysis(df, \"created_hour\")"
   ]
  },
  {
   "cell_type": "markdown",
   "metadata": {},
   "source": [
    "#### 3.1.6 Price, Area\n",
    "\n",
    "It's alread mentioned before in the basis analysis session that both price and area seems to have <font color='red'>Outliers</font>. \n",
    "The max value is way bigger than the 75% percentile. \n"
   ]
  },
  {
   "cell_type": "code",
   "execution_count": 20,
   "metadata": {},
   "outputs": [
    {
     "data": {
      "text/html": [
       "<div>\n",
       "<style scoped>\n",
       "    .dataframe tbody tr th:only-of-type {\n",
       "        vertical-align: middle;\n",
       "    }\n",
       "\n",
       "    .dataframe tbody tr th {\n",
       "        vertical-align: top;\n",
       "    }\n",
       "\n",
       "    .dataframe thead th {\n",
       "        text-align: right;\n",
       "    }\n",
       "</style>\n",
       "<table border=\"1\" class=\"dataframe\">\n",
       "  <thead>\n",
       "    <tr style=\"text-align: right;\">\n",
       "      <th></th>\n",
       "      <th>price</th>\n",
       "      <th>area</th>\n",
       "    </tr>\n",
       "  </thead>\n",
       "  <tbody>\n",
       "    <tr>\n",
       "      <th>count</th>\n",
       "      <td>4.744600e+04</td>\n",
       "      <td>129471.000000</td>\n",
       "    </tr>\n",
       "    <tr>\n",
       "      <th>mean</th>\n",
       "      <td>4.199551e+05</td>\n",
       "      <td>378.467347</td>\n",
       "    </tr>\n",
       "    <tr>\n",
       "      <th>std</th>\n",
       "      <td>1.737207e+06</td>\n",
       "      <td>3218.948533</td>\n",
       "    </tr>\n",
       "    <tr>\n",
       "      <th>min</th>\n",
       "      <td>2.999000e+02</td>\n",
       "      <td>1.000000</td>\n",
       "    </tr>\n",
       "    <tr>\n",
       "      <th>25%</th>\n",
       "      <td>1.650000e+05</td>\n",
       "      <td>56.100000</td>\n",
       "    </tr>\n",
       "    <tr>\n",
       "      <th>50%</th>\n",
       "      <td>3.020000e+05</td>\n",
       "      <td>80.930000</td>\n",
       "    </tr>\n",
       "    <tr>\n",
       "      <th>75%</th>\n",
       "      <td>4.900000e+05</td>\n",
       "      <td>140.000000</td>\n",
       "    </tr>\n",
       "    <tr>\n",
       "      <th>max</th>\n",
       "      <td>3.600000e+08</td>\n",
       "      <td>647210.000000</td>\n",
       "    </tr>\n",
       "  </tbody>\n",
       "</table>\n",
       "</div>"
      ],
      "text/plain": [
       "              price           area\n",
       "count  4.744600e+04  129471.000000\n",
       "mean   4.199551e+05     378.467347\n",
       "std    1.737207e+06    3218.948533\n",
       "min    2.999000e+02       1.000000\n",
       "25%    1.650000e+05      56.100000\n",
       "50%    3.020000e+05      80.930000\n",
       "75%    4.900000e+05     140.000000\n",
       "max    3.600000e+08  647210.000000"
      ]
     },
     "execution_count": 20,
     "metadata": {},
     "output_type": "execute_result"
    }
   ],
   "source": [
    "df.describe()[[\"price\", \"area\"]]"
   ]
  },
  {
   "cell_type": "markdown",
   "metadata": {},
   "source": [
    "### 3.2 Outliers\n",
    "\n",
    "It has to be confirmed, but I believe the unit for area is m2, it's highly unlikely that a **house or apartment** would have area about 100k or more. Also the price 360 millions for the apartment seems to be off. \n",
    "\n",
    "The minimum values,i.e. area=1 or price=299.9 are also suspicious.\n",
    "\n",
    "In order to answer the first question \"average price per square meter per category\", I will only remove the 4 outliers with large area and price, the one with price=360000000, and the 3 with (df.area>=75000 and price>0), and the 25 outliers with area <=10 and price <=500.  \n",
    "\n",
    "I'll leave that to the domain expert to confirm whether or not these criteries make sense or should be ammend."
   ]
  },
  {
   "cell_type": "code",
   "execution_count": 21,
   "metadata": {},
   "outputs": [
    {
     "data": {
      "text/plain": [
       "<AxesSubplot:xlabel='area', ylabel='price'>"
      ]
     },
     "execution_count": 21,
     "metadata": {},
     "output_type": "execute_result"
    },
    {
     "data": {
      "image/png": "[encoded data removed]",
      "text/plain": [
       "<Figure size 432x288 with 1 Axes>"
      ]
     },
     "metadata": {
      "needs_background": "light"
     },
     "output_type": "display_data"
    }
   ],
   "source": [
    "sns.scatterplot(x=df['area'],y=df['price'],hue=df['category'])"
   ]
  },
  {
   "cell_type": "markdown",
   "metadata": {},
   "source": [
    "There are 23 postings with area=1 and price>0, and 2 postings with area 10 and price = 3790k.\n",
    "\n",
    "Let's list few of them:"
   ]
  },
  {
   "cell_type": "code",
   "execution_count": 22,
   "metadata": {},
   "outputs": [
    {
     "name": "stdout",
     "output_type": "stream",
     "text": [
      "(25, 11)\n"
     ]
    },
    {
     "data": {
      "text/html": [
       "<div>\n",
       "<style scoped>\n",
       "    .dataframe tbody tr th:only-of-type {\n",
       "        vertical-align: middle;\n",
       "    }\n",
       "\n",
       "    .dataframe tbody tr th {\n",
       "        vertical-align: top;\n",
       "    }\n",
       "\n",
       "    .dataframe thead th {\n",
       "        text-align: right;\n",
       "    }\n",
       "</style>\n",
       "<table border=\"1\" class=\"dataframe\">\n",
       "  <thead>\n",
       "    <tr style=\"text-align: right;\">\n",
       "      <th></th>\n",
       "      <th>uuid</th>\n",
       "      <th>category</th>\n",
       "      <th>zip_code</th>\n",
       "      <th>price</th>\n",
       "      <th>area</th>\n",
       "      <th>created_at</th>\n",
       "      <th>status</th>\n",
       "      <th>created_date</th>\n",
       "      <th>created_time</th>\n",
       "      <th>created_hour</th>\n",
       "      <th>created_weekday</th>\n",
       "    </tr>\n",
       "  </thead>\n",
       "  <tbody>\n",
       "    <tr>\n",
       "      <th>19664</th>\n",
       "      <td>d7e140ef-cfe1-42a3-85c9-e369eaefec12</td>\n",
       "      <td>house</td>\n",
       "      <td>41462</td>\n",
       "      <td>639000.0</td>\n",
       "      <td>1.0</td>\n",
       "      <td>2021-02-25 18:50:34</td>\n",
       "      <td>REMOVED</td>\n",
       "      <td>2021-02-25</td>\n",
       "      <td>18:50:34</td>\n",
       "      <td>18</td>\n",
       "      <td>Thursday</td>\n",
       "    </tr>\n",
       "    <tr>\n",
       "      <th>25680</th>\n",
       "      <td>b3aa1a73-91af-448d-acb7-993185c3925b</td>\n",
       "      <td>house</td>\n",
       "      <td>93183</td>\n",
       "      <td>195000.0</td>\n",
       "      <td>1.0</td>\n",
       "      <td>2021-02-16 18:38:06</td>\n",
       "      <td>REMOVED</td>\n",
       "      <td>2021-02-16</td>\n",
       "      <td>18:38:06</td>\n",
       "      <td>18</td>\n",
       "      <td>Tuesday</td>\n",
       "    </tr>\n",
       "    <tr>\n",
       "      <th>34634</th>\n",
       "      <td>e0649e11-958a-4d23-8193-6c08c41af3ca</td>\n",
       "      <td>house</td>\n",
       "      <td>17111</td>\n",
       "      <td>4800.0</td>\n",
       "      <td>1.0</td>\n",
       "      <td>2021-02-01 18:08:19</td>\n",
       "      <td>REMOVED</td>\n",
       "      <td>2021-02-01</td>\n",
       "      <td>18:08:19</td>\n",
       "      <td>18</td>\n",
       "      <td>Monday</td>\n",
       "    </tr>\n",
       "    <tr>\n",
       "      <th>35110</th>\n",
       "      <td>b430adaa-ed4e-4218-833a-f7ad6a3128d7</td>\n",
       "      <td>house</td>\n",
       "      <td>51067</td>\n",
       "      <td>598000.0</td>\n",
       "      <td>1.0</td>\n",
       "      <td>2021-02-21 20:56:58</td>\n",
       "      <td>REMOVED</td>\n",
       "      <td>2021-02-21</td>\n",
       "      <td>20:56:58</td>\n",
       "      <td>20</td>\n",
       "      <td>Sunday</td>\n",
       "    </tr>\n",
       "    <tr>\n",
       "      <th>37632</th>\n",
       "      <td>f1e95b5c-3cf8-4f57-b0e6-e5977a2f070f</td>\n",
       "      <td>house</td>\n",
       "      <td>17166</td>\n",
       "      <td>195000.0</td>\n",
       "      <td>1.0</td>\n",
       "      <td>2021-02-15 18:10:24</td>\n",
       "      <td>REMOVED</td>\n",
       "      <td>2021-02-15</td>\n",
       "      <td>18:10:24</td>\n",
       "      <td>18</td>\n",
       "      <td>Monday</td>\n",
       "    </tr>\n",
       "  </tbody>\n",
       "</table>\n",
       "</div>"
      ],
      "text/plain": [
       "                                       uuid category zip_code     price  area  \\\n",
       "19664  d7e140ef-cfe1-42a3-85c9-e369eaefec12    house    41462  639000.0   1.0   \n",
       "25680  b3aa1a73-91af-448d-acb7-993185c3925b    house    93183  195000.0   1.0   \n",
       "34634  e0649e11-958a-4d23-8193-6c08c41af3ca    house    17111    4800.0   1.0   \n",
       "35110  b430adaa-ed4e-4218-833a-f7ad6a3128d7    house    51067  598000.0   1.0   \n",
       "37632  f1e95b5c-3cf8-4f57-b0e6-e5977a2f070f    house    17166  195000.0   1.0   \n",
       "\n",
       "               created_at   status created_date created_time  created_hour  \\\n",
       "19664 2021-02-25 18:50:34  REMOVED   2021-02-25     18:50:34            18   \n",
       "25680 2021-02-16 18:38:06  REMOVED   2021-02-16     18:38:06            18   \n",
       "34634 2021-02-01 18:08:19  REMOVED   2021-02-01     18:08:19            18   \n",
       "35110 2021-02-21 20:56:58  REMOVED   2021-02-21     20:56:58            20   \n",
       "37632 2021-02-15 18:10:24  REMOVED   2021-02-15     18:10:24            18   \n",
       "\n",
       "      created_weekday  \n",
       "19664        Thursday  \n",
       "25680         Tuesday  \n",
       "34634          Monday  \n",
       "35110          Sunday  \n",
       "37632          Monday  "
      ]
     },
     "execution_count": 22,
     "metadata": {},
     "output_type": "execute_result"
    }
   ],
   "source": [
    "print(df[(df.area<=10) & (df.price>0)].shape)\n",
    "df[(df.area<=10) & (df.price>0)].head()"
   ]
  },
  {
   "cell_type": "code",
   "execution_count": 23,
   "metadata": {},
   "outputs": [
    {
     "data": {
      "text/html": [
       "<div>\n",
       "<style scoped>\n",
       "    .dataframe tbody tr th:only-of-type {\n",
       "        vertical-align: middle;\n",
       "    }\n",
       "\n",
       "    .dataframe tbody tr th {\n",
       "        vertical-align: top;\n",
       "    }\n",
       "\n",
       "    .dataframe thead th {\n",
       "        text-align: right;\n",
       "    }\n",
       "</style>\n",
       "<table border=\"1\" class=\"dataframe\">\n",
       "  <thead>\n",
       "    <tr style=\"text-align: right;\">\n",
       "      <th></th>\n",
       "      <th>uuid</th>\n",
       "      <th>category</th>\n",
       "      <th>zip_code</th>\n",
       "      <th>price</th>\n",
       "      <th>area</th>\n",
       "      <th>created_at</th>\n",
       "      <th>status</th>\n",
       "      <th>created_date</th>\n",
       "      <th>created_time</th>\n",
       "      <th>created_hour</th>\n",
       "      <th>created_weekday</th>\n",
       "    </tr>\n",
       "  </thead>\n",
       "  <tbody>\n",
       "    <tr>\n",
       "      <th>46549</th>\n",
       "      <td>7f44daac-3fd2-4b0f-884f-787c3b78f38a</td>\n",
       "      <td>house</td>\n",
       "      <td>38642</td>\n",
       "      <td>299.9</td>\n",
       "      <td>200.75</td>\n",
       "      <td>2021-02-07 17:28:46</td>\n",
       "      <td>REMOVED</td>\n",
       "      <td>2021-02-07</td>\n",
       "      <td>17:28:46</td>\n",
       "      <td>17</td>\n",
       "      <td>Sunday</td>\n",
       "    </tr>\n",
       "    <tr>\n",
       "      <th>86931</th>\n",
       "      <td>d10cd9b5-d4b6-46c0-9378-deda5201f373</td>\n",
       "      <td>house</td>\n",
       "      <td>37520</td>\n",
       "      <td>299.9</td>\n",
       "      <td>200.75</td>\n",
       "      <td>2021-02-07 17:28:45</td>\n",
       "      <td>REMOVED</td>\n",
       "      <td>2021-02-07</td>\n",
       "      <td>17:28:45</td>\n",
       "      <td>17</td>\n",
       "      <td>Sunday</td>\n",
       "    </tr>\n",
       "    <tr>\n",
       "      <th>132335</th>\n",
       "      <td>fe955750-098c-49fc-8e78-2e972fb1572a</td>\n",
       "      <td>house</td>\n",
       "      <td>07958</td>\n",
       "      <td>380.0</td>\n",
       "      <td>100.00</td>\n",
       "      <td>2021-02-13 17:49:02</td>\n",
       "      <td>REMOVED</td>\n",
       "      <td>2021-02-13</td>\n",
       "      <td>17:49:02</td>\n",
       "      <td>17</td>\n",
       "      <td>Saturday</td>\n",
       "    </tr>\n",
       "  </tbody>\n",
       "</table>\n",
       "</div>"
      ],
      "text/plain": [
       "                                        uuid category zip_code  price    area  \\\n",
       "46549   7f44daac-3fd2-4b0f-884f-787c3b78f38a    house    38642  299.9  200.75   \n",
       "86931   d10cd9b5-d4b6-46c0-9378-deda5201f373    house    37520  299.9  200.75   \n",
       "132335  fe955750-098c-49fc-8e78-2e972fb1572a    house    07958  380.0  100.00   \n",
       "\n",
       "                created_at   status created_date created_time  created_hour  \\\n",
       "46549  2021-02-07 17:28:46  REMOVED   2021-02-07     17:28:46            17   \n",
       "86931  2021-02-07 17:28:45  REMOVED   2021-02-07     17:28:45            17   \n",
       "132335 2021-02-13 17:49:02  REMOVED   2021-02-13     17:49:02            17   \n",
       "\n",
       "       created_weekday  \n",
       "46549           Sunday  \n",
       "86931           Sunday  \n",
       "132335        Saturday  "
      ]
     },
     "execution_count": 23,
     "metadata": {},
     "output_type": "execute_result"
    }
   ],
   "source": [
    "df[df.price<500]"
   ]
  },
  {
   "cell_type": "code",
   "execution_count": 24,
   "metadata": {},
   "outputs": [
    {
     "data": {
      "text/html": [
       "<div>\n",
       "<style scoped>\n",
       "    .dataframe tbody tr th:only-of-type {\n",
       "        vertical-align: middle;\n",
       "    }\n",
       "\n",
       "    .dataframe tbody tr th {\n",
       "        vertical-align: top;\n",
       "    }\n",
       "\n",
       "    .dataframe thead th {\n",
       "        text-align: right;\n",
       "    }\n",
       "</style>\n",
       "<table border=\"1\" class=\"dataframe\">\n",
       "  <thead>\n",
       "    <tr style=\"text-align: right;\">\n",
       "      <th></th>\n",
       "      <th>uuid</th>\n",
       "      <th>category</th>\n",
       "      <th>zip_code</th>\n",
       "      <th>price</th>\n",
       "      <th>area</th>\n",
       "      <th>created_at</th>\n",
       "      <th>status</th>\n",
       "      <th>created_date</th>\n",
       "      <th>created_time</th>\n",
       "      <th>created_hour</th>\n",
       "      <th>created_weekday</th>\n",
       "    </tr>\n",
       "  </thead>\n",
       "  <tbody>\n",
       "    <tr>\n",
       "      <th>84011</th>\n",
       "      <td>a9c613da-45ca-4555-853d-34e367d7ab32</td>\n",
       "      <td>apartment</td>\n",
       "      <td>61381</td>\n",
       "      <td>360000000.0</td>\n",
       "      <td>60.0</td>\n",
       "      <td>2021-02-21 20:50:48</td>\n",
       "      <td>ONLINE</td>\n",
       "      <td>2021-02-21</td>\n",
       "      <td>20:50:48</td>\n",
       "      <td>20</td>\n",
       "      <td>Sunday</td>\n",
       "    </tr>\n",
       "  </tbody>\n",
       "</table>\n",
       "</div>"
      ],
      "text/plain": [
       "                                       uuid   category zip_code        price  \\\n",
       "84011  a9c613da-45ca-4555-853d-34e367d7ab32  apartment    61381  360000000.0   \n",
       "\n",
       "       area          created_at  status created_date created_time  \\\n",
       "84011  60.0 2021-02-21 20:50:48  ONLINE   2021-02-21     20:50:48   \n",
       "\n",
       "       created_hour created_weekday  \n",
       "84011            20          Sunday  "
      ]
     },
     "execution_count": 24,
     "metadata": {},
     "output_type": "execute_result"
    }
   ],
   "source": [
    "df[df.price==360000000]"
   ]
  },
  {
   "cell_type": "code",
   "execution_count": 25,
   "metadata": {},
   "outputs": [
    {
     "data": {
      "text/html": [
       "<div>\n",
       "<style scoped>\n",
       "    .dataframe tbody tr th:only-of-type {\n",
       "        vertical-align: middle;\n",
       "    }\n",
       "\n",
       "    .dataframe tbody tr th {\n",
       "        vertical-align: top;\n",
       "    }\n",
       "\n",
       "    .dataframe thead th {\n",
       "        text-align: right;\n",
       "    }\n",
       "</style>\n",
       "<table border=\"1\" class=\"dataframe\">\n",
       "  <thead>\n",
       "    <tr style=\"text-align: right;\">\n",
       "      <th></th>\n",
       "      <th>uuid</th>\n",
       "      <th>category</th>\n",
       "      <th>zip_code</th>\n",
       "      <th>price</th>\n",
       "      <th>area</th>\n",
       "      <th>created_at</th>\n",
       "      <th>status</th>\n",
       "      <th>created_date</th>\n",
       "      <th>created_time</th>\n",
       "      <th>created_hour</th>\n",
       "      <th>created_weekday</th>\n",
       "    </tr>\n",
       "  </thead>\n",
       "  <tbody>\n",
       "    <tr>\n",
       "      <th>58573</th>\n",
       "      <td>b95c3e3d-6357-44d4-9946-95035bd49109</td>\n",
       "      <td>house</td>\n",
       "      <td>08315</td>\n",
       "      <td>220000.0</td>\n",
       "      <td>647210.0</td>\n",
       "      <td>2021-02-25 19:38:44</td>\n",
       "      <td>ONLINE</td>\n",
       "      <td>2021-02-25</td>\n",
       "      <td>19:38:44</td>\n",
       "      <td>19</td>\n",
       "      <td>Thursday</td>\n",
       "    </tr>\n",
       "    <tr>\n",
       "      <th>95180</th>\n",
       "      <td>49b05a54-076f-443b-914e-2a38166db2d9</td>\n",
       "      <td>apartment</td>\n",
       "      <td>29451</td>\n",
       "      <td>85000.0</td>\n",
       "      <td>98000.0</td>\n",
       "      <td>2021-02-19 17:26:21</td>\n",
       "      <td>ONLINE</td>\n",
       "      <td>2021-02-19</td>\n",
       "      <td>17:26:21</td>\n",
       "      <td>17</td>\n",
       "      <td>Friday</td>\n",
       "    </tr>\n",
       "    <tr>\n",
       "      <th>130175</th>\n",
       "      <td>3a90728e-63f7-44c2-be79-6dd6adfc8d0f</td>\n",
       "      <td>house</td>\n",
       "      <td>96176</td>\n",
       "      <td>430000.0</td>\n",
       "      <td>190000.0</td>\n",
       "      <td>2021-02-18 18:30:01</td>\n",
       "      <td>REMOVED</td>\n",
       "      <td>2021-02-18</td>\n",
       "      <td>18:30:01</td>\n",
       "      <td>18</td>\n",
       "      <td>Thursday</td>\n",
       "    </tr>\n",
       "  </tbody>\n",
       "</table>\n",
       "</div>"
      ],
      "text/plain": [
       "                                        uuid   category zip_code     price  \\\n",
       "58573   b95c3e3d-6357-44d4-9946-95035bd49109      house    08315  220000.0   \n",
       "95180   49b05a54-076f-443b-914e-2a38166db2d9  apartment    29451   85000.0   \n",
       "130175  3a90728e-63f7-44c2-be79-6dd6adfc8d0f      house    96176  430000.0   \n",
       "\n",
       "            area          created_at   status created_date created_time  \\\n",
       "58573   647210.0 2021-02-25 19:38:44   ONLINE   2021-02-25     19:38:44   \n",
       "95180    98000.0 2021-02-19 17:26:21   ONLINE   2021-02-19     17:26:21   \n",
       "130175  190000.0 2021-02-18 18:30:01  REMOVED   2021-02-18     18:30:01   \n",
       "\n",
       "        created_hour created_weekday  \n",
       "58573             19        Thursday  \n",
       "95180             17          Friday  \n",
       "130175            18        Thursday  "
      ]
     },
     "execution_count": 25,
     "metadata": {},
     "output_type": "execute_result"
    }
   ],
   "source": [
    "df[(df.area>=75000) & (df.price>0)]"
   ]
  },
  {
   "cell_type": "markdown",
   "metadata": {},
   "source": [
    "Remove outliers and calculate price per square meter."
   ]
  },
  {
   "cell_type": "code",
   "execution_count": 26,
   "metadata": {},
   "outputs": [
    {
     "name": "stdout",
     "output_type": "stream",
     "text": [
      "Posting with price (47440, 11)\n",
      "Posting with area (129443, 11)\n",
      "\n",
      "Posting with no price but area (83287, 11)\n",
      "Posting with no area but price (1284, 11)\n",
      "\n",
      "Posting with both price and area (46156, 11)\n"
     ]
    },
    {
     "data": {
      "text/plain": [
       "count    46156.000000\n",
       "mean      3218.127491\n",
       "std       2370.696688\n",
       "min          2.892849\n",
       "25%       1548.000000\n",
       "50%       2768.869823\n",
       "75%       4305.912596\n",
       "max      49938.685561\n",
       "Name: price_sqt_m2, dtype: float64"
      ]
     },
     "execution_count": 26,
     "metadata": {},
     "output_type": "execute_result"
    }
   ],
   "source": [
    "df[\"area\"] = np.where(((df.area>=75000) & (df.price>0)), np.nan, df.area)\n",
    "df[\"price\"] = np.where(df.price==360000000, np.nan, df.price)\n",
    "\n",
    "df[\"area\"] = np.where(((df.area<=10) & (df.price>0)), np.nan, df.area)\n",
    "df[\"price\"] = np.where(df.price<=500, np.nan, df.price)\n",
    "\n",
    "print(\"Posting with price\", df[(df.price>0)].shape)\n",
    "print(\"Posting with area\", df[(df.area>0)].shape)\n",
    "\n",
    "print(\"\\nPosting with no price but area\", df[(df.price.isna()) & (df.area>0)].shape)\n",
    "print(\"Posting with no area but price\", df[(df.area.isna()) & (df.price>0)].shape)\n",
    "\n",
    "print(\"\\nPosting with both price and area\", df[(df.price>0) & (df.area>0)].shape)\n",
    "\n",
    "df[\"price_sqt_m2\"] = np.where((df.price>0) & (df.area>0), df.price/df.area, np.nan)\n",
    "df[\"price_sqt_m2\"].describe()\n"
   ]
  },
  {
   "cell_type": "markdown",
   "metadata": {},
   "source": [
    "After removing the 4 outliers, we can see better the area - price scatterplot. "
   ]
  },
  {
   "cell_type": "code",
   "execution_count": 27,
   "metadata": {},
   "outputs": [
    {
     "data": {
      "text/plain": [
       "<AxesSubplot:xlabel='area', ylabel='price'>"
      ]
     },
     "execution_count": 27,
     "metadata": {},
     "output_type": "execute_result"
    },
    {
     "data": {
      "image/png": "[encoded data removed]",
      "text/plain": [
       "<Figure size 432x288 with 1 Axes>"
      ]
     },
     "metadata": {
      "needs_background": "light"
     },
     "output_type": "display_data"
    }
   ],
   "source": [
    "sns.scatterplot(x=df['area'],y=df['price'],hue=df['category'])"
   ]
  },
  {
   "cell_type": "markdown",
   "metadata": {},
   "source": [
    "# Questions and Answers\n",
    "\n",
    "### Question 1: average price per square meter per category\n",
    "\n",
    "The price per square meter is only informed for apartment and house. In avarage apartment has higher price per square meter. "
   ]
  },
  {
   "cell_type": "code",
   "execution_count": 28,
   "metadata": {},
   "outputs": [
    {
     "data": {
      "text/html": [
       "<div>\n",
       "<style scoped>\n",
       "    .dataframe tbody tr th:only-of-type {\n",
       "        vertical-align: middle;\n",
       "    }\n",
       "\n",
       "    .dataframe tbody tr th {\n",
       "        vertical-align: top;\n",
       "    }\n",
       "\n",
       "    .dataframe thead th {\n",
       "        text-align: right;\n",
       "    }\n",
       "</style>\n",
       "<table border=\"1\" class=\"dataframe\">\n",
       "  <thead>\n",
       "    <tr style=\"text-align: right;\">\n",
       "      <th></th>\n",
       "      <th>category</th>\n",
       "      <th>price_sqt_m2</th>\n",
       "    </tr>\n",
       "  </thead>\n",
       "  <tbody>\n",
       "    <tr>\n",
       "      <th>0</th>\n",
       "      <td>apartment</td>\n",
       "      <td>3975.806472</td>\n",
       "    </tr>\n",
       "    <tr>\n",
       "      <th>1</th>\n",
       "      <td>house</td>\n",
       "      <td>2542.844741</td>\n",
       "    </tr>\n",
       "    <tr>\n",
       "      <th>2</th>\n",
       "      <td>industrial</td>\n",
       "      <td>NaN</td>\n",
       "    </tr>\n",
       "    <tr>\n",
       "      <th>3</th>\n",
       "      <td>office</td>\n",
       "      <td>NaN</td>\n",
       "    </tr>\n",
       "    <tr>\n",
       "      <th>4</th>\n",
       "      <td>retail</td>\n",
       "      <td>NaN</td>\n",
       "    </tr>\n",
       "    <tr>\n",
       "      <th>5</th>\n",
       "      <td>temporary_living</td>\n",
       "      <td>NaN</td>\n",
       "    </tr>\n",
       "  </tbody>\n",
       "</table>\n",
       "</div>"
      ],
      "text/plain": [
       "           category  price_sqt_m2\n",
       "0         apartment   3975.806472\n",
       "1             house   2542.844741\n",
       "2        industrial           NaN\n",
       "3            office           NaN\n",
       "4            retail           NaN\n",
       "5  temporary_living           NaN"
      ]
     },
     "execution_count": 28,
     "metadata": {},
     "output_type": "execute_result"
    }
   ],
   "source": [
    "df.groupby(\"category\").agg({\"price_sqt_m2\": \"mean\"}).reset_index()"
   ]
  },
  {
   "cell_type": "code",
   "execution_count": 29,
   "metadata": {},
   "outputs": [
    {
     "data": {
      "text/plain": [
       "<AxesSubplot:xlabel='category', ylabel='price_sqt_m2'>"
      ]
     },
     "execution_count": 29,
     "metadata": {},
     "output_type": "execute_result"
    },
    {
     "data": {
      "image/png": "[encoded data removed]",
      "text/plain": [
       "<Figure size 432x288 with 1 Axes>"
      ]
     },
     "metadata": {
      "needs_background": "light"
     },
     "output_type": "display_data"
    }
   ],
   "source": [
    "sns.boxplot(x=df[\"category\"], y=df['price_sqt_m2'])"
   ]
  },
  {
   "cell_type": "markdown",
   "metadata": {},
   "source": [
    "### Question 2: number of postings online, per category\n",
    "\n",
    "50% ONLINE postings are for apartment."
   ]
  },
  {
   "cell_type": "code",
   "execution_count": 30,
   "metadata": {},
   "outputs": [],
   "source": [
    "# df[df.status==\"ONLINE\"].groupby(\"category\").agg({\"uuid\": \"count\"}).reset_index()"
   ]
  },
  {
   "cell_type": "code",
   "execution_count": 31,
   "metadata": {},
   "outputs": [
    {
     "data": {
      "text/html": [
       "<div>\n",
       "<style scoped>\n",
       "    .dataframe tbody tr th:only-of-type {\n",
       "        vertical-align: middle;\n",
       "    }\n",
       "\n",
       "    .dataframe tbody tr th {\n",
       "        vertical-align: top;\n",
       "    }\n",
       "\n",
       "    .dataframe thead th {\n",
       "        text-align: right;\n",
       "    }\n",
       "</style>\n",
       "<table border=\"1\" class=\"dataframe\">\n",
       "  <thead>\n",
       "    <tr style=\"text-align: right;\">\n",
       "      <th></th>\n",
       "      <th>category</th>\n",
       "      <th>postings</th>\n",
       "      <th>%_posting</th>\n",
       "    </tr>\n",
       "  </thead>\n",
       "  <tbody>\n",
       "    <tr>\n",
       "      <th>0</th>\n",
       "      <td>apartment</td>\n",
       "      <td>18154</td>\n",
       "      <td>50.4474</td>\n",
       "    </tr>\n",
       "    <tr>\n",
       "      <th>1</th>\n",
       "      <td>house</td>\n",
       "      <td>7964</td>\n",
       "      <td>22.1308</td>\n",
       "    </tr>\n",
       "    <tr>\n",
       "      <th>3</th>\n",
       "      <td>office</td>\n",
       "      <td>5515</td>\n",
       "      <td>15.3254</td>\n",
       "    </tr>\n",
       "    <tr>\n",
       "      <th>5</th>\n",
       "      <td>temporary_living</td>\n",
       "      <td>2136</td>\n",
       "      <td>5.9356</td>\n",
       "    </tr>\n",
       "    <tr>\n",
       "      <th>2</th>\n",
       "      <td>industrial</td>\n",
       "      <td>1522</td>\n",
       "      <td>4.2294</td>\n",
       "    </tr>\n",
       "    <tr>\n",
       "      <th>4</th>\n",
       "      <td>retail</td>\n",
       "      <td>695</td>\n",
       "      <td>1.9313</td>\n",
       "    </tr>\n",
       "  </tbody>\n",
       "</table>\n",
       "</div>"
      ],
      "text/plain": [
       "           category  postings  %_posting\n",
       "0         apartment     18154    50.4474\n",
       "1             house      7964    22.1308\n",
       "3            office      5515    15.3254\n",
       "5  temporary_living      2136     5.9356\n",
       "2        industrial      1522     4.2294\n",
       "4            retail       695     1.9313"
      ]
     },
     "execution_count": 31,
     "metadata": {},
     "output_type": "execute_result"
    }
   ],
   "source": [
    "univariate_analysis(df[df.status==\"ONLINE\"], \"category\")"
   ]
  },
  {
   "cell_type": "markdown",
   "metadata": {},
   "source": [
    "### Qustion 3: number of postings created over the first and last day"
   ]
  },
  {
   "cell_type": "code",
   "execution_count": 32,
   "metadata": {},
   "outputs": [
    {
     "data": {
      "text/html": [
       "<div>\n",
       "<style scoped>\n",
       "    .dataframe tbody tr th:only-of-type {\n",
       "        vertical-align: middle;\n",
       "    }\n",
       "\n",
       "    .dataframe tbody tr th {\n",
       "        vertical-align: top;\n",
       "    }\n",
       "\n",
       "    .dataframe thead th {\n",
       "        text-align: right;\n",
       "    }\n",
       "</style>\n",
       "<table border=\"1\" class=\"dataframe\">\n",
       "  <thead>\n",
       "    <tr style=\"text-align: right;\">\n",
       "      <th></th>\n",
       "      <th>created_date</th>\n",
       "      <th>uuid</th>\n",
       "    </tr>\n",
       "  </thead>\n",
       "  <tbody>\n",
       "    <tr>\n",
       "      <th>0</th>\n",
       "      <td>2021-02-01</td>\n",
       "      <td>4967</td>\n",
       "    </tr>\n",
       "    <tr>\n",
       "      <th>1</th>\n",
       "      <td>2021-02-28</td>\n",
       "      <td>2136</td>\n",
       "    </tr>\n",
       "  </tbody>\n",
       "</table>\n",
       "</div>"
      ],
      "text/plain": [
       "  created_date  uuid\n",
       "0   2021-02-01  4967\n",
       "1   2021-02-28  2136"
      ]
     },
     "execution_count": 32,
     "metadata": {},
     "output_type": "execute_result"
    }
   ],
   "source": [
    "df[(df[\"created_at\"].dt.day == 1) | (df[\"created_at\"].dt.day == 28)].groupby([\"created_date\"]).agg({\"uuid\": \"count\"}).reset_index()"
   ]
  },
  {
   "cell_type": "markdown",
   "metadata": {},
   "source": [
    "### Qustion 4: relative difference on postings created daily; do you see any pattern?\n",
    "\n",
    "- There is usually a big decrease on Saterday (2021-02-06,  2021-02-13, 2021-02-20, 2021-02-27).\n",
    "- The volumn on 24th and 25th seem a bit unsually, it looks like some of the ingestion from 24th are done on the 25th instead?\n",
    "- As we have already seen before, Friday seems to have most volumn following closely by Tuesday and Thrusday."
   ]
  },
  {
   "cell_type": "code",
   "execution_count": 33,
   "metadata": {},
   "outputs": [],
   "source": [
    "df_created_date = df.groupby(\"created_date\").agg({\"uuid\": \"count\"}).reset_index()\n",
    "df_created_date[\"uuid_previous_day\"] = df_created_date.shift(1)[\"uuid\"]\n",
    "df_created_date[\"diff_postings\"] = df_created_date[\"uuid\"] - df_created_date[\"uuid_previous_day\"]\n",
    "df_created_date[\"%_diff_postings\"] = round(df_created_date[\"diff_postings\"]/df_created_date[\"uuid_previous_day\"]*100, 2)\n",
    "#df_created_date"
   ]
  },
  {
   "cell_type": "code",
   "execution_count": 34,
   "metadata": {},
   "outputs": [
    {
     "data": {
      "text/plain": [
       "<seaborn.axisgrid.FacetGrid at 0x1216450a0>"
      ]
     },
     "execution_count": 34,
     "metadata": {},
     "output_type": "execute_result"
    },
    {
     "data": {
      "text/plain": [
       "<Figure size 576x216 with 0 Axes>"
      ]
     },
     "metadata": {},
     "output_type": "display_data"
    },
    {
     "data": {
      "image/png": "[encoded data removed]",
      "text/plain": [
       "<Figure size 900x360 with 1 Axes>"
      ]
     },
     "metadata": {
      "needs_background": "light"
     },
     "output_type": "display_data"
    }
   ],
   "source": [
    "plt.figure(figsize=(8,3))\n",
    "g = sns.catplot(x=\"created_date\", y=\"%_diff_postings\", data=df_created_date,\n",
    "                kind=\"bar\", aspect=2.5)\n",
    "g.set_xticklabels(rotation=30, ha=\"right\")"
   ]
  },
  {
   "cell_type": "markdown",
   "metadata": {},
   "source": [
    "as reference, I'll leave the plot with daily change (absolute volumn change compared to previous day) below for comparison."
   ]
  },
  {
   "cell_type": "code",
   "execution_count": 35,
   "metadata": {},
   "outputs": [
    {
     "data": {
      "text/plain": [
       "<seaborn.axisgrid.FacetGrid at 0x12163a190>"
      ]
     },
     "execution_count": 35,
     "metadata": {},
     "output_type": "execute_result"
    },
    {
     "data": {
      "image/png": "[encoded data removed]",
      "text/plain": [
       "<Figure size 900x360 with 1 Axes>"
      ]
     },
     "metadata": {
      "needs_background": "light"
     },
     "output_type": "display_data"
    }
   ],
   "source": [
    "g = sns.catplot(x=\"created_date\", y=\"diff_postings\", data=df_created_date,\n",
    "                kind=\"bar\", aspect=2.5)\n",
    "g.set_xticklabels(rotation=30, ha=\"right\")"
   ]
  },
  {
   "cell_type": "markdown",
   "metadata": {},
   "source": [
    "And the daily volumn."
   ]
  },
  {
   "cell_type": "code",
   "execution_count": 36,
   "metadata": {},
   "outputs": [
    {
     "data": {
      "text/plain": [
       "<seaborn.axisgrid.FacetGrid at 0x121441580>"
      ]
     },
     "execution_count": 36,
     "metadata": {},
     "output_type": "execute_result"
    },
    {
     "data": {
      "image/png": "[encoded data removed]",
      "text/plain": [
       "<Figure size 900x360 with 1 Axes>"
      ]
     },
     "metadata": {
      "needs_background": "light"
     },
     "output_type": "display_data"
    }
   ],
   "source": [
    "g = sns.catplot(x=\"created_date\", y=\"uuid\", data=df_created_date,\n",
    "                kind=\"bar\", aspect=2.5)\n",
    "g.set_xticklabels(rotation=30, ha=\"right\")"
   ]
  },
  {
   "cell_type": "markdown",
   "metadata": {},
   "source": [
    "\n",
    "### Question 5: a query reporting when an alert system monitoring the postings created daily should have fired\n",
    "\n",
    "One alert could be if the posting volumn in absolute number is lower or higher than expected, then fire a alert. "
   ]
  },
  {
   "cell_type": "code",
   "execution_count": 37,
   "metadata": {},
   "outputs": [
    {
     "data": {
      "text/html": [
       "<div>\n",
       "<style scoped>\n",
       "    .dataframe tbody tr th:only-of-type {\n",
       "        vertical-align: middle;\n",
       "    }\n",
       "\n",
       "    .dataframe tbody tr th {\n",
       "        vertical-align: top;\n",
       "    }\n",
       "\n",
       "    .dataframe thead th {\n",
       "        text-align: right;\n",
       "    }\n",
       "</style>\n",
       "<table border=\"1\" class=\"dataframe\">\n",
       "  <thead>\n",
       "    <tr style=\"text-align: right;\">\n",
       "      <th></th>\n",
       "      <th>created_date</th>\n",
       "      <th>uuid</th>\n",
       "      <th>uuid_previous_day</th>\n",
       "      <th>diff_postings</th>\n",
       "      <th>%_diff_postings</th>\n",
       "    </tr>\n",
       "  </thead>\n",
       "  <tbody>\n",
       "    <tr>\n",
       "      <th>19</th>\n",
       "      <td>2021-02-20</td>\n",
       "      <td>22</td>\n",
       "      <td>7665.0</td>\n",
       "      <td>-7643.0</td>\n",
       "      <td>-99.71</td>\n",
       "    </tr>\n",
       "    <tr>\n",
       "      <th>24</th>\n",
       "      <td>2021-02-25</td>\n",
       "      <td>10990</td>\n",
       "      <td>1177.0</td>\n",
       "      <td>9813.0</td>\n",
       "      <td>833.73</td>\n",
       "    </tr>\n",
       "  </tbody>\n",
       "</table>\n",
       "</div>"
      ],
      "text/plain": [
       "   created_date   uuid  uuid_previous_day  diff_postings  %_diff_postings\n",
       "19   2021-02-20     22             7665.0        -7643.0           -99.71\n",
       "24   2021-02-25  10990             1177.0         9813.0           833.73"
      ]
     },
     "execution_count": 37,
     "metadata": {},
     "output_type": "execute_result"
    }
   ],
   "source": [
    "df_created_date[(df_created_date.uuid<100) | (df_created_date.uuid>10000)]"
   ]
  },
  {
   "cell_type": "markdown",
   "metadata": {},
   "source": [
    "Another alert could be when relative volumn dropped or increase more than expected. "
   ]
  },
  {
   "cell_type": "code",
   "execution_count": 38,
   "metadata": {},
   "outputs": [
    {
     "data": {
      "text/html": [
       "<div>\n",
       "<style scoped>\n",
       "    .dataframe tbody tr th:only-of-type {\n",
       "        vertical-align: middle;\n",
       "    }\n",
       "\n",
       "    .dataframe tbody tr th {\n",
       "        vertical-align: top;\n",
       "    }\n",
       "\n",
       "    .dataframe thead th {\n",
       "        text-align: right;\n",
       "    }\n",
       "</style>\n",
       "<table border=\"1\" class=\"dataframe\">\n",
       "  <thead>\n",
       "    <tr style=\"text-align: right;\">\n",
       "      <th></th>\n",
       "      <th>created_date</th>\n",
       "      <th>uuid</th>\n",
       "      <th>uuid_previous_day</th>\n",
       "      <th>diff_postings</th>\n",
       "      <th>%_diff_postings</th>\n",
       "    </tr>\n",
       "  </thead>\n",
       "  <tbody>\n",
       "    <tr>\n",
       "      <th>19</th>\n",
       "      <td>2021-02-20</td>\n",
       "      <td>22</td>\n",
       "      <td>7665.0</td>\n",
       "      <td>-7643.0</td>\n",
       "      <td>-99.71</td>\n",
       "    </tr>\n",
       "    <tr>\n",
       "      <th>20</th>\n",
       "      <td>2021-02-21</td>\n",
       "      <td>4348</td>\n",
       "      <td>22.0</td>\n",
       "      <td>4326.0</td>\n",
       "      <td>19663.64</td>\n",
       "    </tr>\n",
       "    <tr>\n",
       "      <th>23</th>\n",
       "      <td>2021-02-24</td>\n",
       "      <td>1177</td>\n",
       "      <td>7274.0</td>\n",
       "      <td>-6097.0</td>\n",
       "      <td>-83.82</td>\n",
       "    </tr>\n",
       "    <tr>\n",
       "      <th>24</th>\n",
       "      <td>2021-02-25</td>\n",
       "      <td>10990</td>\n",
       "      <td>1177.0</td>\n",
       "      <td>9813.0</td>\n",
       "      <td>833.73</td>\n",
       "    </tr>\n",
       "  </tbody>\n",
       "</table>\n",
       "</div>"
      ],
      "text/plain": [
       "   created_date   uuid  uuid_previous_day  diff_postings  %_diff_postings\n",
       "19   2021-02-20     22             7665.0        -7643.0           -99.71\n",
       "20   2021-02-21   4348               22.0         4326.0         19663.64\n",
       "23   2021-02-24   1177             7274.0        -6097.0           -83.82\n",
       "24   2021-02-25  10990             1177.0         9813.0           833.73"
      ]
     },
     "execution_count": 38,
     "metadata": {},
     "output_type": "execute_result"
    }
   ],
   "source": [
    "# define the threahold for unexpected drops or increases.\n",
    "\n",
    "lower_bound = -70  # if volumn drop over 70%\n",
    "upper_bound = 200  # if volumn increase over 200%\n",
    "\n",
    "df_created_date[(df_created_date[\"%_diff_postings\"]< lower_bound) | (df_created_date[\"%_diff_postings\"]>upper_bound)]"
   ]
  },
  {
   "cell_type": "code",
   "execution_count": null,
   "metadata": {},
   "outputs": [],
   "source": []
  },
  {
   "cell_type": "markdown",
   "metadata": {},
   "source": [
    "# Additional\n",
    "\n",
    "Let's check the daily postings by status and categories."
   ]
  },
  {
   "cell_type": "code",
   "execution_count": 39,
   "metadata": {},
   "outputs": [
    {
     "data": {
      "text/html": [
       "<div>\n",
       "<style scoped>\n",
       "    .dataframe tbody tr th:only-of-type {\n",
       "        vertical-align: middle;\n",
       "    }\n",
       "\n",
       "    .dataframe tbody tr th {\n",
       "        vertical-align: top;\n",
       "    }\n",
       "\n",
       "    .dataframe thead th {\n",
       "        text-align: right;\n",
       "    }\n",
       "</style>\n",
       "<table border=\"1\" class=\"dataframe\">\n",
       "  <thead>\n",
       "    <tr style=\"text-align: right;\">\n",
       "      <th></th>\n",
       "      <th>created_date</th>\n",
       "      <th>category</th>\n",
       "      <th>status</th>\n",
       "      <th>uuid</th>\n",
       "    </tr>\n",
       "  </thead>\n",
       "  <tbody>\n",
       "    <tr>\n",
       "      <th>0</th>\n",
       "      <td>2021-02-01</td>\n",
       "      <td>apartment</td>\n",
       "      <td>ONLINE</td>\n",
       "      <td>517</td>\n",
       "    </tr>\n",
       "    <tr>\n",
       "      <th>1</th>\n",
       "      <td>2021-02-01</td>\n",
       "      <td>apartment</td>\n",
       "      <td>REMOVED</td>\n",
       "      <td>2603</td>\n",
       "    </tr>\n",
       "    <tr>\n",
       "      <th>2</th>\n",
       "      <td>2021-02-01</td>\n",
       "      <td>house</td>\n",
       "      <td>ONLINE</td>\n",
       "      <td>255</td>\n",
       "    </tr>\n",
       "    <tr>\n",
       "      <th>3</th>\n",
       "      <td>2021-02-01</td>\n",
       "      <td>house</td>\n",
       "      <td>REMOVED</td>\n",
       "      <td>665</td>\n",
       "    </tr>\n",
       "    <tr>\n",
       "      <th>4</th>\n",
       "      <td>2021-02-01</td>\n",
       "      <td>industrial</td>\n",
       "      <td>ONLINE</td>\n",
       "      <td>79</td>\n",
       "    </tr>\n",
       "    <tr>\n",
       "      <th>...</th>\n",
       "      <td>...</td>\n",
       "      <td>...</td>\n",
       "      <td>...</td>\n",
       "      <td>...</td>\n",
       "    </tr>\n",
       "    <tr>\n",
       "      <th>333</th>\n",
       "      <td>2021-02-28</td>\n",
       "      <td>office</td>\n",
       "      <td>REMOVED</td>\n",
       "      <td>325</td>\n",
       "    </tr>\n",
       "    <tr>\n",
       "      <th>334</th>\n",
       "      <td>2021-02-28</td>\n",
       "      <td>retail</td>\n",
       "      <td>ONLINE</td>\n",
       "      <td>10</td>\n",
       "    </tr>\n",
       "    <tr>\n",
       "      <th>335</th>\n",
       "      <td>2021-02-28</td>\n",
       "      <td>retail</td>\n",
       "      <td>REMOVED</td>\n",
       "      <td>28</td>\n",
       "    </tr>\n",
       "    <tr>\n",
       "      <th>336</th>\n",
       "      <td>2021-02-28</td>\n",
       "      <td>temporary_living</td>\n",
       "      <td>ONLINE</td>\n",
       "      <td>22</td>\n",
       "    </tr>\n",
       "    <tr>\n",
       "      <th>337</th>\n",
       "      <td>2021-02-28</td>\n",
       "      <td>temporary_living</td>\n",
       "      <td>REMOVED</td>\n",
       "      <td>369</td>\n",
       "    </tr>\n",
       "  </tbody>\n",
       "</table>\n",
       "<p>338 rows × 4 columns</p>\n",
       "</div>"
      ],
      "text/plain": [
       "    created_date          category   status  uuid\n",
       "0     2021-02-01         apartment   ONLINE   517\n",
       "1     2021-02-01         apartment  REMOVED  2603\n",
       "2     2021-02-01             house   ONLINE   255\n",
       "3     2021-02-01             house  REMOVED   665\n",
       "4     2021-02-01        industrial   ONLINE    79\n",
       "..           ...               ...      ...   ...\n",
       "333   2021-02-28            office  REMOVED   325\n",
       "334   2021-02-28            retail   ONLINE    10\n",
       "335   2021-02-28            retail  REMOVED    28\n",
       "336   2021-02-28  temporary_living   ONLINE    22\n",
       "337   2021-02-28  temporary_living  REMOVED   369\n",
       "\n",
       "[338 rows x 4 columns]"
      ]
     },
     "execution_count": 39,
     "metadata": {},
     "output_type": "execute_result"
    }
   ],
   "source": [
    "df_count_online = df[df.status==\"ONLINE\"].groupby([\"created_date\", \"category\"]).agg({\"uuid\": \"count\"}).reset_index()\n",
    "df_count_pending = df[df.status==\"PENDING\"].groupby([\"created_date\", \"category\"]).agg({\"uuid\": \"count\"}).reset_index()\n",
    "df_count_removed = df[df.status==\"REMOVED\"].groupby([\"created_date\", \"category\"]).agg({\"uuid\": \"count\"}).reset_index()\n",
    "\n",
    "df_count_all = df.groupby([\"created_date\", \"category\", \"status\"]).agg({\"uuid\": \"count\"}).reset_index()\n",
    "df_count_all"
   ]
  },
  {
   "cell_type": "markdown",
   "metadata": {},
   "source": [
    "Postings per status"
   ]
  },
  {
   "cell_type": "code",
   "execution_count": 40,
   "metadata": {},
   "outputs": [
    {
     "data": {
      "text/plain": [
       "<seaborn.axisgrid.FacetGrid at 0x1216044f0>"
      ]
     },
     "execution_count": 40,
     "metadata": {},
     "output_type": "execute_result"
    },
    {
     "data": {
      "text/plain": [
       "<Figure size 720x360 with 0 Axes>"
      ]
     },
     "metadata": {},
     "output_type": "display_data"
    },
    {
     "data": {
      "image/png": "[encoded data removed]",
      "text/plain": [
       "<Figure size 1166.25x360 with 1 Axes>"
      ]
     },
     "metadata": {
      "needs_background": "light"
     },
     "output_type": "display_data"
    }
   ],
   "source": [
    "plt.figure(figsize=(10,5))\n",
    "g = sns.catplot(x=\"created_date\", y=\"uuid\", hue=\"status\", kind=\"bar\", data=df_count_all, aspect=3)\n",
    "#g = sns.catplot(x=\"created_date\", y=\"uuid\", hue=\"status\", kind=\"bar\", row=\"category\", data=df_count_all, aspect=3)\n",
    "g.set_xticklabels(rotation=30, ha=\"right\")"
   ]
  },
  {
   "cell_type": "markdown",
   "metadata": {},
   "source": [
    "Postings with status PENDING"
   ]
  },
  {
   "cell_type": "code",
   "execution_count": 41,
   "metadata": {},
   "outputs": [
    {
     "data": {
      "text/plain": [
       "<seaborn.axisgrid.FacetGrid at 0x121f8daf0>"
      ]
     },
     "execution_count": 41,
     "metadata": {},
     "output_type": "execute_result"
    },
    {
     "data": {
      "image/png": "[encoded data removed]",
      "text/plain": [
       "<Figure size 1168.5x360 with 1 Axes>"
      ]
     },
     "metadata": {
      "needs_background": "light"
     },
     "output_type": "display_data"
    }
   ],
   "source": [
    "g = sns.catplot(x=\"created_date\", y=\"uuid\", hue=\"category\", kind=\"bar\", data=df_count_pending, aspect=3)\n",
    "g.set_xticklabels(rotation=30, ha=\"right\")"
   ]
  },
  {
   "cell_type": "markdown",
   "metadata": {},
   "source": [
    "Postings with status REMOVED"
   ]
  },
  {
   "cell_type": "code",
   "execution_count": 42,
   "metadata": {},
   "outputs": [
    {
     "data": {
      "text/plain": [
       "<seaborn.axisgrid.FacetGrid at 0x122ec62e0>"
      ]
     },
     "execution_count": 42,
     "metadata": {},
     "output_type": "execute_result"
    },
    {
     "data": {
      "image/png": "[encoded data removed]",
      "text/plain": [
       "<Figure size 1200.38x360 with 1 Axes>"
      ]
     },
     "metadata": {
      "needs_background": "light"
     },
     "output_type": "display_data"
    }
   ],
   "source": [
    "g = sns.catplot(x=\"created_date\", y=\"uuid\", hue=\"category\", kind=\"bar\", data=df_count_removed, aspect=3)\n",
    "g.set_xticklabels(rotation=30, ha=\"right\")"
   ]
  },
  {
   "cell_type": "markdown",
   "metadata": {},
   "source": [
    "Posting with status ONLINE"
   ]
  },
  {
   "cell_type": "code",
   "execution_count": 43,
   "metadata": {},
   "outputs": [
    {
     "data": {
      "text/plain": [
       "<seaborn.axisgrid.FacetGrid at 0x12161f6a0>"
      ]
     },
     "execution_count": 43,
     "metadata": {},
     "output_type": "execute_result"
    },
    {
     "data": {
      "image/png": "[encoded data removed]",
      "text/plain": [
       "<Figure size 1200.38x360 with 1 Axes>"
      ]
     },
     "metadata": {
      "needs_background": "light"
     },
     "output_type": "display_data"
    }
   ],
   "source": [
    "g = sns.catplot(x=\"created_date\", y=\"uuid\", hue=\"category\", kind=\"bar\", data=df_count_online, aspect=3)\n",
    "g.set_xticklabels(rotation=30, ha=\"right\")"
   ]
  },
  {
   "cell_type": "code",
   "execution_count": null,
   "metadata": {},
   "outputs": [],
   "source": []
  }
 ],
 "metadata": {
  "kernelspec": {
   "display_name": "Python 3",
   "language": "python",
   "name": "python3"
  },
  "language_info": {
   "codemirror_mode": {
    "name": "ipython",
    "version": 3
   },
   "file_extension": ".py",
   "mimetype": "text/x-python",
   "name": "python",
   "nbconvert_exporter": "python",
   "pygments_lexer": "ipython3",
   "version": "3.8.5"
  }
 },
 "nbformat": 4,
 "nbformat_minor": 4
}
