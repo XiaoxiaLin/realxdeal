{
 "cells": [
  {
   "cell_type": "markdown",
   "metadata": {},
   "source": [
    "# Task 3. Productionization\n",
    "\n",
    "We are really eager to proceed with the previous model to production. This includes not only\n",
    "the serving of results but also periodic retraining, monitoring, etc. What should be an\n",
    "adequate solution for this scenario? We value the completeness of the solution you come up\n",
    "with. Make sure to consider in particular the following aspects:\n",
    "\n",
    "- automating the training step\n",
    "- CI/CD & artifacts versioning\n",
    "- monitoring the different steps\n",
    "- sketch a diagram of the stack, from training to user request"
   ]
  },
  {
   "cell_type": "markdown",
   "metadata": {},
   "source": [
    "# Ideas \n",
    "\n",
    "Reference:\n",
    "\n",
    "https://docs.aws.amazon.com/sagemaker/latest/dg/sagemaker-projects.html\n",
    "\n",
    "https://aws.amazon.com/es/blogs/aws/amazon-sagemaker-pipelines-brings-devops-to-machine-learning-projects/\n"
   ]
  },
  {
   "cell_type": "code",
   "execution_count": null,
   "metadata": {},
   "outputs": [],
   "source": []
  }
 ],
 "metadata": {
  "kernelspec": {
   "display_name": "Python 3",
   "language": "python",
   "name": "python3"
  },
  "language_info": {
   "codemirror_mode": {
    "name": "ipython",
    "version": 3
   },
   "file_extension": ".py",
   "mimetype": "text/x-python",
   "name": "python",
   "nbconvert_exporter": "python",
   "pygments_lexer": "ipython3",
   "version": "3.8.5"
  }
 },
 "nbformat": 4,
 "nbformat_minor": 4
}
